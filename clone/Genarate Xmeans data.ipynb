{
 "cells": [
  {
   "cell_type": "code",
   "execution_count": 2,
   "metadata": {
    "ExecuteTime": {
     "end_time": "2020-09-27T07:03:15.814014Z",
     "start_time": "2020-09-27T07:01:43.576177Z"
    },
    "deletable": false,
    "editable": false,
    "run_control": {
     "frozen": true
    }
   },
   "outputs": [],
   "source": [
    "import pandas as pd\n",
    "root = 'data/'\n",
    "lang = 'java'\n",
    "ast = pd.read_pickle(root+lang+'/ast.pkl')"
   ]
  },
  {
   "cell_type": "code",
   "execution_count": 11,
   "metadata": {
    "ExecuteTime": {
     "end_time": "2020-09-27T07:18:03.856110Z",
     "start_time": "2020-09-27T07:17:56.718360Z"
    },
    "deletable": false,
    "editable": false,
    "run_control": {
     "frozen": true
    }
   },
   "outputs": [],
   "source": [
    "from utils import get_blocks_v1 as func\n",
    "from gensim.models.word2vec import Word2Vec\n",
    "\n",
    "word2vec = Word2Vec.load(root + lang + \"/train/embedding/node_w2v_128\").wv\n",
    "max_token = word2vec.vectors.shape[0]\n",
    "vocab = word2vec.vocab\n",
    "#EMBEDDING_DIM = word2vec.vectors.shape[1]\n",
    "#embeddings = np.zeros((MAX_TOKENS + 1, EMBEDDING_DIM), dtype = \"float32\")\n",
    "#embeddings[:MAX_TOKENS] = word2vec.vectors\n",
    "\n",
    "def tree_to_index(node):\n",
    "    token = node.token\n",
    "    result = [vocab[token].index if token in vocab else max_token]\n",
    "    children = node.children\n",
    "    for child in children:\n",
    "        result.append(tree_to_index(child))\n",
    "    return result\n",
    "\n",
    "def trans2seq(r):\n",
    "    blocks = []\n",
    "    func(r, blocks)\n",
    "    tree = []\n",
    "    for b in blocks:\n",
    "        btree = tree_to_index(b)\n",
    "        tree.append(btree)\n",
    "    return tree"
   ]
  },
  {
   "cell_type": "code",
   "execution_count": 12,
   "metadata": {
    "ExecuteTime": {
     "end_time": "2020-09-27T07:51:07.531232Z",
     "start_time": "2020-09-27T07:18:33.796218Z"
    },
    "deletable": false,
    "editable": false,
    "run_control": {
     "frozen": true
    }
   },
   "outputs": [],
   "source": [
    "ast = pd.DataFrame(ast, copy=False)\n",
    "ast['code'] = ast['code'].apply(trans2seq)"
   ]
  },
  {
   "cell_type": "code",
   "execution_count": 13,
   "metadata": {
    "ExecuteTime": {
     "end_time": "2020-09-27T11:59:16.328141Z",
     "start_time": "2020-09-27T11:59:15.853410Z"
    },
    "deletable": false,
    "editable": false,
    "run_control": {
     "frozen": true
    },
    "scrolled": true
   },
   "outputs": [
    {
     "data": {
      "text/html": [
       "<div>\n",
       "<style scoped>\n",
       "    .dataframe tbody tr th:only-of-type {\n",
       "        vertical-align: middle;\n",
       "    }\n",
       "\n",
       "    .dataframe tbody tr th {\n",
       "        vertical-align: top;\n",
       "    }\n",
       "\n",
       "    .dataframe thead th {\n",
       "        text-align: right;\n",
       "    }\n",
       "</style>\n",
       "<table border=\"1\" class=\"dataframe\">\n",
       "  <thead>\n",
       "    <tr style=\"text-align: right;\">\n",
       "      <th></th>\n",
       "      <th>id</th>\n",
       "      <th>code</th>\n",
       "    </tr>\n",
       "  </thead>\n",
       "  <tbody>\n",
       "    <tr>\n",
       "      <th>0</th>\n",
       "      <td>74</td>\n",
       "      <td>[[25, [20, [75]], [181], [19, [4, [16]], [158]...</td>\n",
       "    </tr>\n",
       "    <tr>\n",
       "      <th>1</th>\n",
       "      <td>661</td>\n",
       "      <td>[[25, [20, [33]], [1107], [19, [4, [34]], [158...</td>\n",
       "    </tr>\n",
       "    <tr>\n",
       "      <th>2</th>\n",
       "      <td>1362</td>\n",
       "      <td>[[25, [20, [33], [75]], [15, [22]], [2957], [1...</td>\n",
       "    </tr>\n",
       "    <tr>\n",
       "      <th>3</th>\n",
       "      <td>1363</td>\n",
       "      <td>[[25, [20, [33], [75]], [15, [22]], [2957], [1...</td>\n",
       "    </tr>\n",
       "    <tr>\n",
       "      <th>4</th>\n",
       "      <td>2450</td>\n",
       "      <td>[[25, [20, [33]], [784], [19, [4, [16]], [335]...</td>\n",
       "    </tr>\n",
       "    <tr>\n",
       "      <th>...</th>\n",
       "      <td>...</td>\n",
       "      <td>...</td>\n",
       "    </tr>\n",
       "    <tr>\n",
       "      <th>59613</th>\n",
       "      <td>23653940</td>\n",
       "      <td>[[327, [2957], [19, [4, [72]], [2957]], [19, [...</td>\n",
       "    </tr>\n",
       "    <tr>\n",
       "      <th>59614</th>\n",
       "      <td>23655348</td>\n",
       "      <td>[[25, [20, [33]], [15, [76]], [2957], [19, [4,...</td>\n",
       "    </tr>\n",
       "    <tr>\n",
       "      <th>59615</th>\n",
       "      <td>23672349</td>\n",
       "      <td>[[25, [20, [33], [75]], [15, [41]], [2957], [1...</td>\n",
       "    </tr>\n",
       "    <tr>\n",
       "      <th>59616</th>\n",
       "      <td>23672350</td>\n",
       "      <td>[[25, [20, [33], [75]], [15, [41]], [2957], [1...</td>\n",
       "    </tr>\n",
       "    <tr>\n",
       "      <th>59617</th>\n",
       "      <td>23672354</td>\n",
       "      <td>[[25, [20, [33], [75]], [15, [41]], [2957], [1...</td>\n",
       "    </tr>\n",
       "  </tbody>\n",
       "</table>\n",
       "<p>59618 rows × 2 columns</p>\n",
       "</div>"
      ],
      "text/plain": [
       "             id                                               code\n",
       "0            74  [[25, [20, [75]], [181], [19, [4, [16]], [158]...\n",
       "1           661  [[25, [20, [33]], [1107], [19, [4, [34]], [158...\n",
       "2          1362  [[25, [20, [33], [75]], [15, [22]], [2957], [1...\n",
       "3          1363  [[25, [20, [33], [75]], [15, [22]], [2957], [1...\n",
       "4          2450  [[25, [20, [33]], [784], [19, [4, [16]], [335]...\n",
       "...         ...                                                ...\n",
       "59613  23653940  [[327, [2957], [19, [4, [72]], [2957]], [19, [...\n",
       "59614  23655348  [[25, [20, [33]], [15, [76]], [2957], [19, [4,...\n",
       "59615  23672349  [[25, [20, [33], [75]], [15, [41]], [2957], [1...\n",
       "59616  23672350  [[25, [20, [33], [75]], [15, [41]], [2957], [1...\n",
       "59617  23672354  [[25, [20, [33], [75]], [15, [41]], [2957], [1...\n",
       "\n",
       "[59618 rows x 2 columns]"
      ]
     },
     "execution_count": 13,
     "metadata": {},
     "output_type": "execute_result"
    }
   ],
   "source": [
    "ast"
   ]
  },
  {
   "cell_type": "code",
   "execution_count": 15,
   "metadata": {
    "ExecuteTime": {
     "end_time": "2020-09-27T12:00:25.442247Z",
     "start_time": "2020-09-27T11:59:33.977924Z"
    },
    "deletable": false,
    "editable": false,
    "run_control": {
     "frozen": true
    }
   },
   "outputs": [],
   "source": [
    "ast.to_pickle(root+lang+'/ast_embedded.pkl')"
   ]
  },
  {
   "cell_type": "code",
   "execution_count": 1,
   "metadata": {
    "ExecuteTime": {
     "end_time": "2020-09-27T12:49:41.027552Z",
     "start_time": "2020-09-27T12:49:29.395986Z"
    }
   },
   "outputs": [
    {
     "name": "stderr",
     "output_type": "stream",
     "text": [
      "C:\\Users\\A1\\anaconda3\\envs\\pytorch\\lib\\site-packages\\torch\\cuda\\__init__.py:102: UserWarning: \n",
      "    Found GPU0 GeForce GT 730 which is of cuda capability 3.0.\n",
      "    PyTorch no longer supports this GPU because it is too old.\n",
      "    The minimum cuda capability that we support is 3.5.\n",
      "    \n",
      "  warnings.warn(old_gpu_warn % (d, name, major, capability[1]))\n",
      "C:\\Users\\A1\\anaconda3\\envs\\pytorch\\lib\\site-packages\\torch\\cuda\\__init__.py:125: UserWarning: \n",
      "GeForce GT 730 with CUDA capability sm_30 is not compatible with the current PyTorch installation.\n",
      "The current PyTorch install supports CUDA capabilities sm_37 sm_50 sm_60 sm_61 sm_70 sm_75 compute_37.\n",
      "If you want to use the GeForce GT 730 GPU with PyTorch, please check the instructions at https://pytorch.org/get-started/locally/\n",
      "\n",
      "  warnings.warn(incompatible_device_warn.format(device_name, capability, \" \".join(arch_list), device_name))\n"
     ]
    }
   ],
   "source": [
    "import numpy as np\n",
    "import pandas as pd\n",
    "from model import BatchProgramCC\n",
    "from gensim.models.word2vec import Word2Vec\n",
    "import torch\n",
    "\n",
    "def get_device():\n",
    "    if torch.cuda.is_available():\n",
    "        if torch.cuda.get_device_name(0) == 'GeForce GT 730':\n",
    "            device = 'cpu'\n",
    "        else:\n",
    "            device = 'cuda'\n",
    "    else:\n",
    "        device = 'cpu'\n",
    "    return torch.device(device)\n",
    "\n",
    "device = get_device()\n",
    "\n",
    "\n",
    "root = 'data/'\n",
    "lang = 'java'\n",
    "categories = 1\n",
    "if lang == 'java':\n",
    "    categories = 5\n",
    "\n",
    "ast_embedded = pd.read_pickle(root+lang+'/ast_embedded.pkl')\n",
    "\n",
    "word2vec = Word2Vec.load(root+lang+\"/train/embedding/node_w2v_128\").wv\n",
    "MAX_TOKENS = word2vec.vectors.shape[0]\n",
    "EMBEDDING_DIM = word2vec.vectors.shape[1]\n",
    "#embeddings = np.zeros((MAX_TOKENS + 1, EMBEDDING_DIM), dtype=\"float32\")\n",
    "#embeddings[:MAX_TOKENS] = word2vec.vectors"
   ]
  },
  {
   "cell_type": "code",
   "execution_count": 2,
   "metadata": {
    "ExecuteTime": {
     "end_time": "2020-09-27T12:49:41.035527Z",
     "start_time": "2020-09-27T12:49:41.028529Z"
    }
   },
   "outputs": [],
   "source": [
    "import math\n",
    "\n",
    "class dataloader():\n",
    "    def __init__(self, dataset, batch_size):\n",
    "        self.dataset = dataset\n",
    "        self.batch_size = batch_size\n",
    "        self.idx = 0\n",
    "        self.max_idx = len(dataset)\n",
    "        self.len = math.ceil(len(self.dataset) / self.batch_size)\n",
    "        \n",
    "    def __call__(self):\n",
    "        pass\n",
    "    \n",
    "    def __len__(self):\n",
    "        return self.len\n",
    "    \n",
    "    def __iter__(self):\n",
    "        self.idx = 0\n",
    "        return self\n",
    "    \n",
    "    def __next__(self):\n",
    "        if self.idx >= self.max_idx:\n",
    "            raise StopIteration\n",
    "        tmp = self.dataset.iloc[self.idx: self.idx+self.batch_size]\n",
    "        x = []\n",
    "        for _, item in tmp.iterrows():\n",
    "            x.append(item['code'])\n",
    "        self.idx += self.batch_size\n",
    "        return x\n",
    "    \n"
   ]
  },
  {
   "cell_type": "code",
   "execution_count": 3,
   "metadata": {
    "ExecuteTime": {
     "end_time": "2020-09-27T12:49:41.057462Z",
     "start_time": "2020-09-27T12:49:41.036540Z"
    }
   },
   "outputs": [],
   "source": [
    "HIDDEN_DIM = 100\n",
    "ENCODE_DIM = 128\n",
    "LABELS = 1\n",
    "BATCH_SIZE = 128\n",
    "type_str = ['T1', 'T2', 'ST3', 'MT3', 'T4']\n",
    "model_file = [' ',\n",
    "              ' ',\n",
    "              ' ',\n",
    "              ' ',\n",
    "              '20200927_075407 java ccd model for T4 epoch_13 val.pt']\n",
    "save_dir = '---- java ccd model/'\n",
    "\n",
    "\n",
    "model = BatchProgramCC(EMBEDDING_DIM,\n",
    "                       HIDDEN_DIM,\n",
    "                       MAX_TOKENS+1,\n",
    "                       ENCODE_DIM,\n",
    "                       LABELS,\n",
    "                       BATCH_SIZE,\n",
    "                       device).to(device)\n",
    "\n",
    "data = dataloader(ast_embedded, BATCH_SIZE)"
   ]
  },
  {
   "cell_type": "code",
   "execution_count": 4,
   "metadata": {
    "ExecuteTime": {
     "end_time": "2020-09-27T12:49:41.087357Z",
     "start_time": "2020-09-27T12:49:41.058460Z"
    }
   },
   "outputs": [
    {
     "data": {
      "text/plain": [
       "BatchProgramCC(\n",
       "  (encoder): BatchTreeEncoder(\n",
       "    (embedding): Embedding(2958, 128)\n",
       "    (W_c): Linear(in_features=128, out_features=128, bias=True)\n",
       "  )\n",
       "  (bigru): GRU(128, 100, batch_first=True, bidirectional=True)\n",
       ")"
      ]
     },
     "execution_count": 4,
     "metadata": {},
     "output_type": "execute_result"
    }
   ],
   "source": [
    "T = 5\n",
    "param = torch.load(save_dir + type_str[T-1] + '/' + model_file[T-1])['param']\n",
    "model.load_state_dict(param)\n",
    "model.eval()"
   ]
  },
  {
   "cell_type": "code",
   "execution_count": 5,
   "metadata": {
    "ExecuteTime": {
     "end_time": "2020-09-27T13:11:13.562773Z",
     "start_time": "2020-09-27T12:49:41.088354Z"
    }
   },
   "outputs": [],
   "source": [
    "with open(root+'Xmeans dataset/'+type_str[T-1]+'.txt', 'w') as f:\n",
    "    with torch.no_grad():\n",
    "        for x in data:\n",
    "            model.batch_size = len(x)\n",
    "            model.hidden = model.init_hidden()\n",
    "            encode = model.encode(x).cpu().numpy()\n",
    "            buffer = []\n",
    "            for s in encode:\n",
    "                i = [str(i) for i in s]\n",
    "                i = ', '.join(i)\n",
    "                buffer.append(i)\n",
    "            buffer = '\\n'.join(buffer)\n",
    "            f.write(buffer+'\\n')\n",
    "            #break"
   ]
  },
  {
   "cell_type": "code",
   "execution_count": null,
   "metadata": {
    "ExecuteTime": {
     "end_time": "2020-09-27T12:37:22.243756Z",
     "start_time": "2020-09-27T12:37:22.239734Z"
    }
   },
   "outputs": [],
   "source": []
  },
  {
   "cell_type": "code",
   "execution_count": null,
   "metadata": {
    "ExecuteTime": {
     "end_time": "2020-09-27T12:22:43.591613Z",
     "start_time": "2020-09-27T12:22:43.577617Z"
    }
   },
   "outputs": [],
   "source": []
  },
  {
   "cell_type": "code",
   "execution_count": 15,
   "metadata": {
    "ExecuteTime": {
     "end_time": "2020-09-27T13:32:32.517075Z",
     "start_time": "2020-09-27T13:32:17.787473Z"
    }
   },
   "outputs": [],
   "source": [
    "with open(root+'Xmeans dataset/'+type_str[T-1]+'_1000.txt', 'w') as f_w:\n",
    "    with open(root+'Xmeans dataset/'+type_str[T-1]+'.txt', 'r') as f_r:\n",
    "        for line in f_r:\n",
    "            temp=line.strip('\\n').split(', ')\n",
    "            temp = [str(float(i)*1000) for i in temp]\n",
    "            f_w.write(', '.join(temp)+'\\n')\n",
    "            #break\n",
    "            "
   ]
  }
 ],
 "metadata": {
  "kernelspec": {
   "display_name": "Python 3",
   "language": "python",
   "name": "python3"
  },
  "language_info": {
   "codemirror_mode": {
    "name": "ipython",
    "version": 3
   },
   "file_extension": ".py",
   "mimetype": "text/x-python",
   "name": "python",
   "nbconvert_exporter": "python",
   "pygments_lexer": "ipython3",
   "version": "3.8.5"
  },
  "toc": {
   "base_numbering": 1,
   "nav_menu": {},
   "number_sections": true,
   "sideBar": true,
   "skip_h1_title": false,
   "title_cell": "Table of Contents",
   "title_sidebar": "Contents",
   "toc_cell": false,
   "toc_position": {},
   "toc_section_display": true,
   "toc_window_display": false
  },
  "varInspector": {
   "cols": {
    "lenName": 16,
    "lenType": 16,
    "lenVar": 40
   },
   "kernels_config": {
    "python": {
     "delete_cmd_postfix": "",
     "delete_cmd_prefix": "del ",
     "library": "var_list.py",
     "varRefreshCmd": "print(var_dic_list())"
    },
    "r": {
     "delete_cmd_postfix": ") ",
     "delete_cmd_prefix": "rm(",
     "library": "var_list.r",
     "varRefreshCmd": "cat(var_dic_list()) "
    }
   },
   "types_to_exclude": [
    "module",
    "function",
    "builtin_function_or_method",
    "instance",
    "_Feature"
   ],
   "window_display": false
  }
 },
 "nbformat": 4,
 "nbformat_minor": 4
}
