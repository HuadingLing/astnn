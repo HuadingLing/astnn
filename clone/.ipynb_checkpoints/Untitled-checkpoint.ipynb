{
 "cells": [
  {
   "cell_type": "code",
   "execution_count": 1,
   "metadata": {
    "ExecuteTime": {
     "end_time": "2020-09-07T13:45:40.970720Z",
     "start_time": "2020-09-07T13:45:38.790908Z"
    }
   },
   "outputs": [],
   "source": [
    "import os\n",
    "import javalang\n",
    "\n",
    "#PATH = './data/other_java/'\n",
    "PATH = './data/ttt/'\n",
    "#'ast_save'\n",
    "\n",
    "from gensim.models.word2vec import Word2Vec\n",
    "model= Word2Vec(min_count=4, size=200, max_final_vocab=100000)\n",
    "#w2v = Word2Vec(corpus, size=size, workers=16, sg=1, max_final_vocab=3000)\n",
    "#w2v.save(data_path+'train/embedding/node_w2v_' + str(size))\n",
    "\n",
    "'''\n",
    "def get_ast(filename):\n",
    "    assert not os.path.isdir(filename)\n",
    "    try:\n",
    "        with open(filename, 'r', encoding=\"utf-8\") as f:\n",
    "            code = f.read()\n",
    "    except:\n",
    "        return None\n",
    "    try:\n",
    "        ast = javalang.parse.parse(code)\n",
    "        #seq = trans2tokenseq(ast)\n",
    "        return ast\n",
    "    except:\n",
    "        return None\n",
    "'''\n",
    "def get_ast(filename):\n",
    "    assert not os.path.isdir(filename)\n",
    "    with open(filename, 'r', encoding=\"utf-8\") as f:\n",
    "        code = f.read()\n",
    "    try:\n",
    "        ast = javalang.parse.parse(code)\n",
    "        #seq = trans2tokenseq(ast)\n",
    "        return ast\n",
    "    except:\n",
    "        return None\n",
    "    \n",
    "def get_functions(ast):\n",
    "    return list(ast.filter(javalang.tree.MethodDeclaration))\n",
    "\n",
    "def get_function_name(function_ast):\n",
    "    return function_ast.name\n",
    "    \n",
    "from utils import get_sequence\n",
    "\n",
    "def trans_to_sequences(ast):\n",
    "    sequence = []\n",
    "    get_sequence(ast, sequence)\n",
    "    return sequence\n",
    "\n",
    "def get_sentences(path):\n",
    "    #sentences = []\n",
    "    files = os.listdir(path) # 得到文件夹下的所有文件名称\n",
    "    for file in files:\n",
    "        if file[0] == '.':  # 隐藏文件或文件夹跳过\n",
    "            continue\n",
    "        if os.path.isdir(path+file):\n",
    "            yield from get_sentences(path+file+'/')\n",
    "        elif file[-5:].lower()=='.java':\n",
    "            file_path = path+file\n",
    "            ast = get_ast(file_path)\n",
    "            if ast == None:\n",
    "                continue\n",
    "            functions = get_functions(ast)\n",
    "            for _, node in functions:\n",
    "                #yield get_function_name(node)\n",
    "                yield trans_to_sequences(node)\n",
    "                #sentences.append(trans_to_sequences(node))\n",
    "    #model.build_vocab(sentences)\n"
   ]
  },
  {
   "cell_type": "code",
   "execution_count": 2,
   "metadata": {
    "ExecuteTime": {
     "end_time": "2020-09-07T13:48:54.092757Z",
     "start_time": "2020-09-07T13:45:40.972534Z"
    }
   },
   "outputs": [],
   "source": [
    "model.build_vocab(get_sentences(PATH))"
   ]
  },
  {
   "cell_type": "code",
   "execution_count": null,
   "metadata": {
    "ExecuteTime": {
     "start_time": "2020-09-07T13:45:38.775Z"
    }
   },
   "outputs": [],
   "source": [
    "model.train(get_sentences(PATH), total_examples=model.corpus_count, epochs=model.epochs)"
   ]
  },
  {
   "cell_type": "code",
   "execution_count": null,
   "metadata": {
    "ExecuteTime": {
     "start_time": "2020-09-07T13:51:13.712Z"
    }
   },
   "outputs": [],
   "source": [
    "word2vec = model.wv\n",
    "\n",
    "vocab = word2vec.vocab\n",
    "max_token = word2vec.vectors.shape[0]\n",
    "dim = word2vec.vectors.shape[1]\n",
    "\n",
    "print(len(vocab))  # 字典长度\n",
    "print(max_token)  # 字典长度\n",
    "print(model.corpus_count)  # 句子总数\n",
    "print(dim)"
   ]
  },
  {
   "cell_type": "code",
   "execution_count": null,
   "metadata": {
    "ExecuteTime": {
     "start_time": "2020-09-07T13:45:38.778Z"
    }
   },
   "outputs": [],
   "source": [
    "model.save('./word2vec_Model/word2vec')"
   ]
  },
  {
   "cell_type": "code",
   "execution_count": null,
   "metadata": {
    "ExecuteTime": {
     "end_time": "2020-09-07T09:47:18.976149Z",
     "start_time": "2020-09-07T09:47:18.972160Z"
    }
   },
   "outputs": [],
   "source": []
  }
 ],
 "metadata": {
  "kernelspec": {
   "display_name": "Python 3",
   "language": "python",
   "name": "python3"
  },
  "language_info": {
   "codemirror_mode": {
    "name": "ipython",
    "version": 3
   },
   "file_extension": ".py",
   "mimetype": "text/x-python",
   "name": "python",
   "nbconvert_exporter": "python",
   "pygments_lexer": "ipython3",
   "version": "3.8.5"
  },
  "toc": {
   "base_numbering": 1,
   "nav_menu": {},
   "number_sections": true,
   "sideBar": true,
   "skip_h1_title": false,
   "title_cell": "Table of Contents",
   "title_sidebar": "Contents",
   "toc_cell": false,
   "toc_position": {},
   "toc_section_display": true,
   "toc_window_display": false
  },
  "varInspector": {
   "cols": {
    "lenName": 16,
    "lenType": 16,
    "lenVar": 40
   },
   "kernels_config": {
    "python": {
     "delete_cmd_postfix": "",
     "delete_cmd_prefix": "del ",
     "library": "var_list.py",
     "varRefreshCmd": "print(var_dic_list())"
    },
    "r": {
     "delete_cmd_postfix": ") ",
     "delete_cmd_prefix": "rm(",
     "library": "var_list.r",
     "varRefreshCmd": "cat(var_dic_list()) "
    }
   },
   "types_to_exclude": [
    "module",
    "function",
    "builtin_function_or_method",
    "instance",
    "_Feature"
   ],
   "window_display": false
  }
 },
 "nbformat": 4,
 "nbformat_minor": 4
}
