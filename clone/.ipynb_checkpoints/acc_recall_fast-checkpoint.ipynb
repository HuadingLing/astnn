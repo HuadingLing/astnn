{
 "cells": [
  {
   "cell_type": "code",
   "execution_count": 1,
   "metadata": {
    "ExecuteTime": {
     "end_time": "2020-11-29T13:36:36.093560Z",
     "start_time": "2020-11-29T13:36:35.679668Z"
    }
   },
   "outputs": [],
   "source": [
    "import pandas as pd\n",
    "import numpy as np\n",
    "root = 'data/'\n",
    "lang = 'java'\n",
    "categories = 1\n",
    "if lang == 'java':\n",
    "    categories = 5\n",
    "\n",
    "true_label = pd.read_pickle(root+lang+'/bcb_pair_ids.pkl')"
   ]
  },
  {
   "cell_type": "code",
   "execution_count": 2,
   "metadata": {
    "ExecuteTime": {
     "end_time": "2020-11-28T08:05:14.366127Z",
     "start_time": "2020-11-28T08:04:46.107042Z"
    },
    "deletable": false,
    "editable": false,
    "run_control": {
     "frozen": true
    }
   },
   "outputs": [
    {
     "name": "stdout",
     "output_type": "stream",
     "text": [
      "Label: 1\n",
      "[[81779   201]\n",
      " [  127 15428]]\n",
      "0.9966371046291075 0.9871392923411607 0.9918354226936676\n"
     ]
    }
   ],
   "source": [
    "focus_label = 1\n",
    "pred_label = np.loadtxt(root+lang+'/type'+str(focus_label)+'.txt', dtype=np.int32)\n",
    "#pred_label = np.loadtxt(root+lang+'/Output85-100.txt', dtype=np.int32)\n",
    "id1_pred = pred_label[:,0]\n",
    "id2_pred = pred_label[:,1]\n",
    "\n",
    "t1 = np.zeros((2,2), dtype=np.int32)\n",
    "\n",
    "for i in range(len(true_label)):\n",
    "    row = true_label.iloc[i]\n",
    "    if (id1_pred[id2_pred==row['id1']]==row['id2']).any() or (id1_pred[id2_pred==row['id2']]==row['id1']).any():\n",
    "        if row['label'] == focus_label:  # and label_pred==focus_label:\n",
    "            t1[1][1] += 1\n",
    "        else:\n",
    "            t1[0][1] += 1\n",
    "    else:\n",
    "        t1[1 if row['label']==focus_label else 0][0] += 1\n",
    "        \n",
    "print(\"Label: %d\" % focus_label)\n",
    "print(t1)\n",
    "acc = (t1[0][0]+t1[1][1])/np.sum(t1)\n",
    "precision = t1[1][1]/(t1[0][1]+t1[1][1])\n",
    "recall = t1[1][1]/(t1[1][0]+t1[1][1])\n",
    "print(acc,precision,recall)"
   ]
  },
  {
   "cell_type": "code",
   "execution_count": 3,
   "metadata": {
    "ExecuteTime": {
     "end_time": "2020-11-28T08:05:33.775937Z",
     "start_time": "2020-11-28T08:05:14.367124Z"
    },
    "deletable": false,
    "editable": false,
    "run_control": {
     "frozen": true
    }
   },
   "outputs": [
    {
     "name": "stdout",
     "output_type": "stream",
     "text": [
      "Label: 2\n",
      "[[91903  1969]\n",
      " [  681  2982]]\n",
      "0.972830266058338 0.6023025651383559 0.814086814086814\n"
     ]
    }
   ],
   "source": [
    "focus_label = 2\n",
    "pred_label = np.loadtxt(root+lang+'/type'+str(focus_label)+'.txt', dtype=np.int32)\n",
    "#pred_label = np.loadtxt(root+lang+'/Output85-100.txt', dtype=np.int32)\n",
    "id1_pred = pred_label[:,0]\n",
    "id2_pred = pred_label[:,1]\n",
    "\n",
    "t1 = np.zeros((2,2), dtype=np.int32)\n",
    "\n",
    "for i in range(len(true_label)):\n",
    "    row = true_label.iloc[i]\n",
    "    if (id1_pred[id2_pred==row['id1']]==row['id2']).any() or (id1_pred[id2_pred==row['id2']]==row['id1']).any():\n",
    "        if row['label'] == focus_label:  # and label_pred==focus_label:\n",
    "            t1[1][1] += 1\n",
    "        else:\n",
    "            t1[0][1] += 1\n",
    "    else:\n",
    "        t1[1 if row['label']==focus_label else 0][0] += 1\n",
    "        \n",
    "print(\"Label: %d\" % focus_label)\n",
    "print(t1)\n",
    "acc = (t1[0][0]+t1[1][1])/np.sum(t1)\n",
    "precision = t1[1][1]/(t1[0][1]+t1[1][1])\n",
    "recall = t1[1][1]/(t1[1][0]+t1[1][1])\n",
    "print(acc,precision,recall)"
   ]
  },
  {
   "cell_type": "code",
   "execution_count": 4,
   "metadata": {
    "ExecuteTime": {
     "end_time": "2020-11-28T08:05:53.359584Z",
     "start_time": "2020-11-28T08:05:33.776935Z"
    },
    "deletable": false,
    "editable": false,
    "run_control": {
     "frozen": true
    }
   },
   "outputs": [
    {
     "name": "stdout",
     "output_type": "stream",
     "text": [
      "Label: 3\n",
      "[[78838   380]\n",
      " [16038  2279]]\n",
      "0.8316706823191675 0.8570891312523505 0.12441993776273408\n"
     ]
    }
   ],
   "source": [
    "focus_label = 3\n",
    "pred_label = np.loadtxt(root+lang+'/type'+str(focus_label)+'.txt', dtype=np.int32)\n",
    "#pred_label = np.loadtxt(root+lang+'/Output85-100.txt', dtype=np.int32)\n",
    "id1_pred = pred_label[:,0]\n",
    "id2_pred = pred_label[:,1]\n",
    "\n",
    "t1 = np.zeros((2,2), dtype=np.int32)\n",
    "\n",
    "for i in range(len(true_label)):\n",
    "    row = true_label.iloc[i]\n",
    "    if (id1_pred[id2_pred==row['id1']]==row['id2']).any() or (id1_pred[id2_pred==row['id2']]==row['id1']).any():\n",
    "        if row['label'] == focus_label:  # and label_pred==focus_label:\n",
    "            t1[1][1] += 1\n",
    "        else:\n",
    "            t1[0][1] += 1\n",
    "    else:\n",
    "        t1[1 if row['label']==focus_label else 0][0] += 1\n",
    "        \n",
    "print(\"Label: %d\" % focus_label)\n",
    "print(t1)\n",
    "acc = (t1[0][0]+t1[1][1])/np.sum(t1)\n",
    "precision = t1[1][1]/(t1[0][1]+t1[1][1])\n",
    "recall = t1[1][1]/(t1[1][0]+t1[1][1])\n",
    "print(acc,precision,recall)"
   ]
  },
  {
   "cell_type": "code",
   "execution_count": 5,
   "metadata": {
    "ExecuteTime": {
     "end_time": "2020-11-28T08:06:18.402943Z",
     "start_time": "2020-11-28T08:05:53.360582Z"
    },
    "deletable": false,
    "editable": false,
    "run_control": {
     "frozen": true
    }
   },
   "outputs": [
    {
     "name": "stdout",
     "output_type": "stream",
     "text": [
      "Label: 3\n",
      "[[78704   514]\n",
      " [13168  5149]]\n",
      "0.8597221510227098 0.9092353876037436 0.2811049844406835\n"
     ]
    }
   ],
   "source": [
    "focus_label = 3\n",
    "#pred_label = np.loadtxt(root+lang+'/type'+str(focus_label)+'.txt', dtype=np.int32)\n",
    "pred_label = np.loadtxt(root+lang+'/Output70-90.txt', dtype=np.int32)\n",
    "id1_pred = pred_label[:,0]\n",
    "id2_pred = pred_label[:,1]\n",
    "\n",
    "t1 = np.zeros((2,2), dtype=np.int32)\n",
    "\n",
    "for i in range(len(true_label)):\n",
    "    row = true_label.iloc[i]\n",
    "    if (id1_pred[id2_pred==row['id1']]==row['id2']).any() or (id1_pred[id2_pred==row['id2']]==row['id1']).any():\n",
    "        if row['label'] == focus_label:  # and label_pred==focus_label:\n",
    "            t1[1][1] += 1\n",
    "        else:\n",
    "            t1[0][1] += 1\n",
    "    else:\n",
    "        t1[1 if row['label']==focus_label else 0][0] += 1\n",
    "        \n",
    "print(\"Label: %d\" % focus_label)\n",
    "print(t1)\n",
    "acc = (t1[0][0]+t1[1][1])/np.sum(t1)\n",
    "precision = t1[1][1]/(t1[0][1]+t1[1][1])\n",
    "recall = t1[1][1]/(t1[1][0]+t1[1][1])\n",
    "print(acc,precision,recall)"
   ]
  },
  {
   "cell_type": "code",
   "execution_count": 6,
   "metadata": {
    "ExecuteTime": {
     "end_time": "2020-11-28T08:06:39.768546Z",
     "start_time": "2020-11-28T08:06:18.403940Z"
    },
    "deletable": false,
    "editable": false,
    "run_control": {
     "frozen": true
    }
   },
   "outputs": [
    {
     "name": "stdout",
     "output_type": "stream",
     "text": [
      "Label: 2\n",
      "[[90669  3203]\n",
      " [  576  3087]]\n",
      "0.9612549341262111 0.4907790143084261 0.8427518427518428\n"
     ]
    }
   ],
   "source": [
    "focus_label = 2\n",
    "#pred_label = np.loadtxt(root+lang+'/type'+str(focus_label)+'.txt', dtype=np.int32)\n",
    "pred_label = np.loadtxt(root+lang+'/Output85-100.txt', dtype=np.int32)\n",
    "id1_pred = pred_label[:,0]\n",
    "id2_pred = pred_label[:,1]\n",
    "\n",
    "t1 = np.zeros((2,2), dtype=np.int32)\n",
    "\n",
    "for i in range(len(true_label)):\n",
    "    row = true_label.iloc[i]\n",
    "    if (id1_pred[id2_pred==row['id1']]==row['id2']).any() or (id1_pred[id2_pred==row['id2']]==row['id1']).any():\n",
    "        if row['label'] == focus_label:  # and label_pred==focus_label:\n",
    "            t1[1][1] += 1\n",
    "        else:\n",
    "            t1[0][1] += 1\n",
    "    else:\n",
    "        t1[1 if row['label']==focus_label else 0][0] += 1\n",
    "        \n",
    "print(\"Label: %d\" % focus_label)\n",
    "print(t1)\n",
    "acc = (t1[0][0]+t1[1][1])/np.sum(t1)\n",
    "precision = t1[1][1]/(t1[0][1]+t1[1][1])\n",
    "recall = t1[1][1]/(t1[1][0]+t1[1][1])\n",
    "print(acc,precision,recall)"
   ]
  },
  {
   "cell_type": "code",
   "execution_count": 7,
   "metadata": {
    "ExecuteTime": {
     "end_time": "2020-11-28T09:06:31.283790Z",
     "start_time": "2020-11-28T09:06:08.476911Z"
    },
    "deletable": false,
    "editable": false,
    "run_control": {
     "frozen": true
    }
   },
   "outputs": [
    {
     "name": "stdout",
     "output_type": "stream",
     "text": [
      "Label: 2\n",
      "[[89527  4345]\n",
      " [  226  3437]]\n",
      "0.9531347721330804 0.4416602415831406 0.9383019383019383\n"
     ]
    }
   ],
   "source": [
    "focus_label = 2\n",
    "#pred_label = np.loadtxt(root+lang+'/type'+str(focus_label)+'.txt', dtype=np.int32)\n",
    "pred_label = np.loadtxt(root+lang+'/Output80-100type2.txt', dtype=np.int32)\n",
    "id1_pred = pred_label[:,0]\n",
    "id2_pred = pred_label[:,1]\n",
    "\n",
    "t1 = np.zeros((2,2), dtype=np.int32)\n",
    "\n",
    "for i in range(len(true_label)):\n",
    "    row = true_label.iloc[i]\n",
    "    if (id1_pred[id2_pred==row['id1']]==row['id2']).any() or (id1_pred[id2_pred==row['id2']]==row['id1']).any():\n",
    "        if row['label'] == focus_label:  # and label_pred==focus_label:\n",
    "            t1[1][1] += 1\n",
    "        else:\n",
    "            t1[0][1] += 1\n",
    "    else:\n",
    "        t1[1 if row['label']==focus_label else 0][0] += 1\n",
    "        \n",
    "print(\"Label: %d\" % focus_label)\n",
    "print(t1)\n",
    "acc = (t1[0][0]+t1[1][1])/np.sum(t1)\n",
    "precision = t1[1][1]/(t1[0][1]+t1[1][1])\n",
    "recall = t1[1][1]/(t1[1][0]+t1[1][1])\n",
    "print(acc,precision,recall)"
   ]
  },
  {
   "cell_type": "code",
   "execution_count": 10,
   "metadata": {
    "ExecuteTime": {
     "end_time": "2020-11-28T14:32:59.804339Z",
     "start_time": "2020-11-28T14:31:35.121836Z"
    },
    "deletable": false,
    "editable": false,
    "run_control": {
     "frozen": true
    }
   },
   "outputs": [
    {
     "name": "stdout",
     "output_type": "stream",
     "text": [
      "Label: 3\n",
      "[[75932  3286]\n",
      " [ 8173 10144]]\n",
      "0.8825139693443379 0.7553239017125838 0.5538024785718185\n"
     ]
    }
   ],
   "source": [
    "focus_label = 3\n",
    "#pred_label = np.loadtxt(root+lang+'/type'+str(focus_label)+'.txt', dtype=np.int32)\n",
    "pred_label = np.loadtxt(root+lang+'/Output50-80type3.txt', dtype=np.int32)\n",
    "id1_pred = pred_label[:,0]\n",
    "id2_pred = pred_label[:,1]\n",
    "\n",
    "t1 = np.zeros((2,2), dtype=np.int32)\n",
    "\n",
    "for i in range(len(true_label)):\n",
    "    row = true_label.iloc[i]\n",
    "    if (id1_pred[id2_pred==row['id1']]==row['id2']).any() or (id1_pred[id2_pred==row['id2']]==row['id1']).any():\n",
    "        t1[1 if row['label']==focus_label else 0][1] += 1\n",
    "    else:\n",
    "        t1[1 if row['label']==focus_label else 0][0] += 1\n",
    "        \n",
    "print(\"Label: %d\" % focus_label)\n",
    "print(t1)\n",
    "acc = (t1[0][0]+t1[1][1])/np.sum(t1)\n",
    "precision = t1[1][1]/(t1[0][1]+t1[1][1])\n",
    "recall = t1[1][1]/(t1[1][0]+t1[1][1])\n",
    "print(acc,precision,recall)"
   ]
  },
  {
   "cell_type": "code",
   "execution_count": 2,
   "metadata": {
    "ExecuteTime": {
     "end_time": "2020-11-29T13:18:58.704544Z",
     "start_time": "2020-11-29T13:11:25.330763Z"
    },
    "deletable": false,
    "editable": false,
    "run_control": {
     "frozen": true
    }
   },
   "outputs": [
    {
     "name": "stdout",
     "output_type": "stream",
     "text": [
      "Label: 3\n",
      "[[70621  8597]\n",
      " [ 6350 11967]]\n",
      "0.8467524478392372 0.581939311418012 0.6533275099634219\n"
     ]
    }
   ],
   "source": [
    "focus_label = 3\n",
    "#pred_label = np.loadtxt(root+lang+'/type'+str(focus_label)+'.txt', dtype=np.int32)\n",
    "pred_label = np.loadtxt(root+lang+'/Output40-80type3.txt', dtype=np.int32)\n",
    "id1_pred = pred_label[:,0]\n",
    "id2_pred = pred_label[:,1]\n",
    "\n",
    "t1 = np.zeros((2,2), dtype=np.int32)\n",
    "\n",
    "for i in range(len(true_label)):\n",
    "    row = true_label.iloc[i]\n",
    "    if (id1_pred[id2_pred==row['id1']]==row['id2']).any() or (id1_pred[id2_pred==row['id2']]==row['id1']).any():\n",
    "        t1[1 if row['label']==focus_label else 0][1] += 1\n",
    "    else:\n",
    "        t1[1 if row['label']==focus_label else 0][0] += 1\n",
    "        \n",
    "print(\"Label: %d\" % focus_label)\n",
    "print(t1)\n",
    "acc = (t1[0][0]+t1[1][1])/np.sum(t1)\n",
    "precision = t1[1][1]/(t1[0][1]+t1[1][1])\n",
    "recall = t1[1][1]/(t1[1][0]+t1[1][1])\n",
    "print(acc,precision,recall)"
   ]
  },
  {
   "cell_type": "code",
   "execution_count": 2,
   "metadata": {
    "ExecuteTime": {
     "end_time": "2020-11-29T13:36:36.099544Z",
     "start_time": "2020-11-29T13:36:36.095555Z"
    }
   },
   "outputs": [],
   "source": [
    "########################"
   ]
  },
  {
   "cell_type": "code",
   "execution_count": 3,
   "metadata": {
    "ExecuteTime": {
     "end_time": "2020-11-29T13:36:56.733790Z",
     "start_time": "2020-11-29T13:36:36.102536Z"
    }
   },
   "outputs": [
    {
     "name": "stdout",
     "output_type": "stream",
     "text": [
      "Label: 3\n",
      "[[58872   346]\n",
      " [36004  2313]]\n",
      "0.6273132721587122 0.8698758931929297 0.060364851110473156\n"
     ]
    }
   ],
   "source": [
    "focus_label = 3\n",
    "pred_label = np.loadtxt(root+lang+'/type'+str(focus_label)+'.txt', dtype=np.int32)\n",
    "#pred_label = np.loadtxt(root+lang+'/Output85-100.txt', dtype=np.int32)\n",
    "id1_pred = pred_label[:,0]\n",
    "id2_pred = pred_label[:,1]\n",
    "\n",
    "t1 = np.zeros((2,2), dtype=np.int32)\n",
    "\n",
    "for i in range(len(true_label)):\n",
    "    row = true_label.iloc[i]\n",
    "    if (id1_pred[id2_pred==row['id1']]==row['id2']).any() or (id1_pred[id2_pred==row['id2']]==row['id1']).any():\n",
    "        t1[1 if row['label']==3 or row['label']==4 else 0][1] += 1\n",
    "    else:\n",
    "        t1[1 if row['label']==3 or row['label']==4 else 0][0] += 1\n",
    "        \n",
    "print(\"Label: %d\" % focus_label)\n",
    "print(t1)\n",
    "acc = (t1[0][0]+t1[1][1])/np.sum(t1)\n",
    "precision = t1[1][1]/(t1[0][1]+t1[1][1])\n",
    "recall = t1[1][1]/(t1[1][0]+t1[1][1])\n",
    "print(acc,precision,recall)"
   ]
  },
  {
   "cell_type": "code",
   "execution_count": 4,
   "metadata": {
    "ExecuteTime": {
     "end_time": "2020-11-29T13:37:22.840866Z",
     "start_time": "2020-11-29T13:36:56.734788Z"
    }
   },
   "outputs": [
    {
     "name": "stdout",
     "output_type": "stream",
     "text": [
      "Label: 3\n",
      "[[58846   372]\n",
      " [33026  5291]]\n",
      "0.6575793304967448 0.9343104361645771 0.1380849231411645\n"
     ]
    }
   ],
   "source": [
    "focus_label = 3\n",
    "#pred_label = np.loadtxt(root+lang+'/type'+str(focus_label)+'.txt', dtype=np.int32)\n",
    "pred_label = np.loadtxt(root+lang+'/Output70-90.txt', dtype=np.int32)\n",
    "id1_pred = pred_label[:,0]\n",
    "id2_pred = pred_label[:,1]\n",
    "\n",
    "t1 = np.zeros((2,2), dtype=np.int32)\n",
    "\n",
    "for i in range(len(true_label)):\n",
    "    row = true_label.iloc[i]\n",
    "    if (id1_pred[id2_pred==row['id1']]==row['id2']).any() or (id1_pred[id2_pred==row['id2']]==row['id1']).any():\n",
    "        t1[1 if row['label']==3 or row['label']==4 else 0][1] += 1\n",
    "    else:\n",
    "        t1[1 if row['label']==3 or row['label']==4 else 0][0] += 1\n",
    "        \n",
    "print(\"Label: %d\" % focus_label)\n",
    "print(t1)\n",
    "acc = (t1[0][0]+t1[1][1])/np.sum(t1)\n",
    "precision = t1[1][1]/(t1[0][1]+t1[1][1])\n",
    "recall = t1[1][1]/(t1[1][0]+t1[1][1])\n",
    "print(acc,precision,recall)"
   ]
  },
  {
   "cell_type": "code",
   "execution_count": 5,
   "metadata": {
    "ExecuteTime": {
     "end_time": "2020-11-29T13:38:57.581160Z",
     "start_time": "2020-11-29T13:37:22.841834Z"
    }
   },
   "outputs": [
    {
     "name": "stdout",
     "output_type": "stream",
     "text": [
      "Label: 3\n",
      "[[58936   282]\n",
      " [25169 13148]]\n",
      "0.7390577741323627 0.9790022338049144 0.34313751076545657\n"
     ]
    }
   ],
   "source": [
    "focus_label = 3\n",
    "#pred_label = np.loadtxt(root+lang+'/type'+str(focus_label)+'.txt', dtype=np.int32)\n",
    "pred_label = np.loadtxt(root+lang+'/Output50-80type3.txt', dtype=np.int32)\n",
    "id1_pred = pred_label[:,0]\n",
    "id2_pred = pred_label[:,1]\n",
    "\n",
    "t1 = np.zeros((2,2), dtype=np.int32)\n",
    "\n",
    "for i in range(len(true_label)):\n",
    "    row = true_label.iloc[i]\n",
    "    if (id1_pred[id2_pred==row['id1']]==row['id2']).any() or (id1_pred[id2_pred==row['id2']]==row['id1']).any():\n",
    "        t1[1 if row['label']==3 or row['label']==4 else 0][1] += 1\n",
    "    else:\n",
    "        t1[1 if row['label']==3 or row['label']==4 else 0][0] += 1\n",
    "        \n",
    "print(\"Label: %d\" % focus_label)\n",
    "print(t1)\n",
    "acc = (t1[0][0]+t1[1][1])/np.sum(t1)\n",
    "precision = t1[1][1]/(t1[0][1]+t1[1][1])\n",
    "recall = t1[1][1]/(t1[1][0]+t1[1][1])\n",
    "print(acc,precision,recall)"
   ]
  },
  {
   "cell_type": "code",
   "execution_count": 6,
   "metadata": {
    "ExecuteTime": {
     "end_time": "2020-11-29T13:46:50.916673Z",
     "start_time": "2020-11-29T13:38:57.582159Z"
    }
   },
   "outputs": [
    {
     "name": "stdout",
     "output_type": "stream",
     "text": [
      "Label: 3\n",
      "[[58591   627]\n",
      " [18380 19937]]\n",
      "0.8051263648946532 0.9695098229916359 0.5203173526111126\n"
     ]
    }
   ],
   "source": [
    "focus_label = 3\n",
    "#pred_label = np.loadtxt(root+lang+'/type'+str(focus_label)+'.txt', dtype=np.int32)\n",
    "pred_label = np.loadtxt(root+lang+'/Output40-80type3.txt', dtype=np.int32)\n",
    "id1_pred = pred_label[:,0]\n",
    "id2_pred = pred_label[:,1]\n",
    "\n",
    "t1 = np.zeros((2,2), dtype=np.int32)\n",
    "\n",
    "for i in range(len(true_label)):\n",
    "    row = true_label.iloc[i]\n",
    "    if (id1_pred[id2_pred==row['id1']]==row['id2']).any() or (id1_pred[id2_pred==row['id2']]==row['id1']).any():\n",
    "        t1[1 if row['label']==3 or row['label']==4 else 0][1] += 1\n",
    "    else:\n",
    "        t1[1 if row['label']==3 or row['label']==4 else 0][0] += 1\n",
    "        \n",
    "print(\"Label: %d\" % focus_label)\n",
    "print(t1)\n",
    "acc = (t1[0][0]+t1[1][1])/np.sum(t1)\n",
    "precision = t1[1][1]/(t1[0][1]+t1[1][1])\n",
    "recall = t1[1][1]/(t1[1][0]+t1[1][1])\n",
    "print(acc,precision,recall)"
   ]
  },
  {
   "cell_type": "code",
   "execution_count": null,
   "metadata": {},
   "outputs": [],
   "source": []
  }
 ],
 "metadata": {
  "kernelspec": {
   "display_name": "Python 3",
   "language": "python",
   "name": "python3"
  },
  "language_info": {
   "codemirror_mode": {
    "name": "ipython",
    "version": 3
   },
   "file_extension": ".py",
   "mimetype": "text/x-python",
   "name": "python",
   "nbconvert_exporter": "python",
   "pygments_lexer": "ipython3",
   "version": "3.8.5"
  },
  "toc": {
   "base_numbering": 1,
   "nav_menu": {},
   "number_sections": true,
   "sideBar": true,
   "skip_h1_title": false,
   "title_cell": "Table of Contents",
   "title_sidebar": "Contents",
   "toc_cell": false,
   "toc_position": {},
   "toc_section_display": true,
   "toc_window_display": false
  },
  "varInspector": {
   "cols": {
    "lenName": 16,
    "lenType": 16,
    "lenVar": 40
   },
   "kernels_config": {
    "python": {
     "delete_cmd_postfix": "",
     "delete_cmd_prefix": "del ",
     "library": "var_list.py",
     "varRefreshCmd": "print(var_dic_list())"
    },
    "r": {
     "delete_cmd_postfix": ") ",
     "delete_cmd_prefix": "rm(",
     "library": "var_list.r",
     "varRefreshCmd": "cat(var_dic_list()) "
    }
   },
   "types_to_exclude": [
    "module",
    "function",
    "builtin_function_or_method",
    "instance",
    "_Feature"
   ],
   "window_display": false
  }
 },
 "nbformat": 4,
 "nbformat_minor": 4
}
