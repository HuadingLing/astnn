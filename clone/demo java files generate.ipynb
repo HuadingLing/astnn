{
 "cells": [
  {
   "cell_type": "code",
   "execution_count": 1,
   "metadata": {
    "ExecuteTime": {
     "end_time": "2020-08-13T05:14:51.575907Z",
     "start_time": "2020-08-13T05:14:50.739145Z"
    }
   },
   "outputs": [],
   "source": [
    "import pandas as pd\n",
    "root = 'data/'\n",
    "lang = 'java'\n",
    "categories = 1\n",
    "if lang == 'java':\n",
    "    categories = 5\n",
    "    \n",
    "#train_data = pd.read_pickle(root+lang+'/train/blocks.pkl')\n",
    "#train_ids = train_data['id1'].append(train_data['id2']).unique()\n",
    "#validation_data = pd.read_pickle(root+lang+'/dev/blocks.pkl')\n",
    "#validation_ids = validation_data['id1'].append(validation_data['id2']).unique()\n",
    "#ids = np.unique(np.hstack([train_ids, validation_ids]))\n",
    "\n",
    "#test_data = pd.read_pickle(root+lang+'/test/blocks.pkl')\n",
    "#test_ids = test_data['id1'].append(test_data['id2']).unique()\n",
    "\n",
    "#ids = np.setdiff1d(test_ids, ids)"
   ]
  },
  {
   "cell_type": "code",
   "execution_count": 3,
   "metadata": {
    "ExecuteTime": {
     "end_time": "2020-08-13T05:17:49.262735Z",
     "start_time": "2020-08-13T05:17:35.885508Z"
    }
   },
   "outputs": [],
   "source": [
    "source = pd.read_csv(root+lang+'/bcb_funcs_all.tsv', sep='\\t', header=None, encoding='utf-8')\n",
    "source.columns = ['id', 'code']\n",
    "unseen_source = pd.read_pickle(root+lang+'/unseen_source.pkl')\n",
    "ids = unseen_source.index.tolist()"
   ]
  },
  {
   "cell_type": "code",
   "execution_count": 10,
   "metadata": {
    "ExecuteTime": {
     "end_time": "2020-08-13T05:19:29.920735Z",
     "start_time": "2020-08-13T05:19:29.816841Z"
    }
   },
   "outputs": [],
   "source": [
    "for i in range(10):\n",
    "    code_id = ids[i]\n",
    "    raw_code = source['code'][source['id']==code_id].values[0]\n",
    "    with open(root+lang + '/demo/code_example_{}.java'.format(code_id),'w') as f:\n",
    "        f.write(raw_code)"
   ]
  },
  {
   "cell_type": "code",
   "execution_count": 107,
   "metadata": {
    "ExecuteTime": {
     "end_time": "2020-08-12T14:20:30.756868Z",
     "start_time": "2020-08-12T14:20:30.727946Z"
    }
   },
   "outputs": [],
   "source": [
    "#query_source = source.set_index('id',drop=False)\n",
    "#query_source = query_source.loc[query_source.index.intersection(ids)]\n",
    "#query_source = pd.merge(query_source, train_data, how='left', left_on='id', right_on='id1')\n",
    "#query_source.drop(columns=['id1', 'id2', 'label', 'code_y'], axis=1, inplace=True)\n",
    "#query_source.rename(columns={'code_x':'tree'}, inplace=True)\n",
    "#query_source = pd.merge(query_source, train_data, how='left', left_on='id', right_on='id2')\n",
    "#query_source.drop(columns=['id1', 'id2', 'label', 'code_x'], axis=1, inplace=True)\n",
    "\n",
    "#query_source.rename(columns={'code_y':'tree_'}, inplace=True)"
   ]
  }
 ],
 "metadata": {
  "kernelspec": {
   "display_name": "Python 3",
   "language": "python",
   "name": "python3"
  },
  "language_info": {
   "codemirror_mode": {
    "name": "ipython",
    "version": 3
   },
   "file_extension": ".py",
   "mimetype": "text/x-python",
   "name": "python",
   "nbconvert_exporter": "python",
   "pygments_lexer": "ipython3",
   "version": "3.8.5"
  },
  "toc": {
   "base_numbering": 1,
   "nav_menu": {},
   "number_sections": true,
   "sideBar": true,
   "skip_h1_title": false,
   "title_cell": "Table of Contents",
   "title_sidebar": "Contents",
   "toc_cell": false,
   "toc_position": {},
   "toc_section_display": true,
   "toc_window_display": false
  },
  "varInspector": {
   "cols": {
    "lenName": 16,
    "lenType": 16,
    "lenVar": 40
   },
   "kernels_config": {
    "python": {
     "delete_cmd_postfix": "",
     "delete_cmd_prefix": "del ",
     "library": "var_list.py",
     "varRefreshCmd": "print(var_dic_list())"
    },
    "r": {
     "delete_cmd_postfix": ") ",
     "delete_cmd_prefix": "rm(",
     "library": "var_list.r",
     "varRefreshCmd": "cat(var_dic_list()) "
    }
   },
   "types_to_exclude": [
    "module",
    "function",
    "builtin_function_or_method",
    "instance",
    "_Feature"
   ],
   "window_display": false
  }
 },
 "nbformat": 4,
 "nbformat_minor": 4
}
