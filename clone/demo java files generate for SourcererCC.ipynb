{
 "cells": [
  {
   "cell_type": "code",
   "execution_count": 1,
   "metadata": {
    "ExecuteTime": {
     "end_time": "2020-11-28T13:53:46.275902Z",
     "start_time": "2020-11-28T13:53:46.033627Z"
    }
   },
   "outputs": [],
   "source": [
    "import pandas as pd\n",
    "root = 'data/'\n",
    "lang = 'java'\n",
    "categories = 1\n",
    "if lang == 'java':\n",
    "    categories = 5\n",
    "    \n",
    "#train_data = pd.read_pickle(root+lang+'/train/blocks.pkl')\n",
    "#train_ids = train_data['id1'].append(train_data['id2']).unique()\n",
    "#validation_data = pd.read_pickle(root+lang+'/dev/blocks.pkl')\n",
    "#validation_ids = validation_data['id1'].append(validation_data['id2']).unique()\n",
    "#ids = np.unique(np.hstack([train_ids, validation_ids]))\n",
    "\n",
    "#test_data = pd.read_pickle(root+lang+'/test/blocks.pkl')\n",
    "#test_ids = test_data['id1'].append(test_data['id2']).unique()\n",
    "\n",
    "#ids = np.setdiff1d(test_ids, ids)"
   ]
  },
  {
   "cell_type": "code",
   "execution_count": 2,
   "metadata": {
    "ExecuteTime": {
     "end_time": "2020-11-28T13:53:48.916466Z",
     "start_time": "2020-11-28T13:53:47.800102Z"
    }
   },
   "outputs": [],
   "source": [
    "source = pd.read_csv(root+lang+'/bcb_funcs_all.tsv', sep='\\t', header=None, encoding='utf-8')\n",
    "source.columns = ['id', 'code']\n",
    "ids = source.index.tolist()"
   ]
  },
  {
   "cell_type": "code",
   "execution_count": 3,
   "metadata": {
    "ExecuteTime": {
     "end_time": "2020-11-28T13:53:50.113279Z",
     "start_time": "2020-11-28T13:53:50.104306Z"
    }
   },
   "outputs": [
    {
     "data": {
      "text/plain": [
       "59618"
      ]
     },
     "execution_count": 3,
     "metadata": {},
     "output_type": "execute_result"
    }
   ],
   "source": [
    "len(ids)\n"
   ]
  },
  {
   "cell_type": "code",
   "execution_count": 4,
   "metadata": {
    "ExecuteTime": {
     "end_time": "2020-11-28T13:53:51.871563Z",
     "start_time": "2020-11-28T13:53:51.864581Z"
    }
   },
   "outputs": [
    {
     "data": {
      "text/plain": [
       "59618"
      ]
     },
     "execution_count": 4,
     "metadata": {},
     "output_type": "execute_result"
    }
   ],
   "source": [
    "len(set(ids))"
   ]
  },
  {
   "cell_type": "code",
   "execution_count": 26,
   "metadata": {
    "ExecuteTime": {
     "end_time": "2020-11-27T11:21:16.474664Z",
     "start_time": "2020-11-27T11:20:35.084357Z"
    },
    "deletable": false,
    "editable": false,
    "run_control": {
     "frozen": true
    }
   },
   "outputs": [],
   "source": [
    "for i in ids:\n",
    "    #code_id = ids[i]\n",
    "    #raw_code = source['code'][source['id']==code_id].values[0]\n",
    "    row = source.iloc[i]\n",
    "    code_id = row['id']\n",
    "    raw_code = row['code']\n",
    "    with open(root+lang + '/SourcererCC_test/{}.java'.format(code_id),'w', encoding='utf-8') as f:\n",
    "        f.write(raw_code)"
   ]
  },
  {
   "cell_type": "code",
   "execution_count": 5,
   "metadata": {
    "ExecuteTime": {
     "end_time": "2020-11-28T13:54:11.166717Z",
     "start_time": "2020-11-28T13:54:11.144747Z"
    }
   },
   "outputs": [],
   "source": [
    "label = pd.read_pickle(root+lang+'/bcb_pair_ids.pkl')"
   ]
  },
  {
   "cell_type": "code",
   "execution_count": 6,
   "metadata": {
    "ExecuteTime": {
     "end_time": "2020-11-28T13:55:41.331172Z",
     "start_time": "2020-11-28T13:55:31.911172Z"
    }
   },
   "outputs": [],
   "source": [
    "id1 = []\n",
    "for i in range(len(label)):\n",
    "    row = label.iloc[i]\n",
    "    id1.append(row['id1'])\n",
    "    id1.append(row['id2'])"
   ]
  },
  {
   "cell_type": "code",
   "execution_count": 9,
   "metadata": {
    "ExecuteTime": {
     "end_time": "2020-11-28T13:56:00.389578Z",
     "start_time": "2020-11-28T13:56:00.375615Z"
    }
   },
   "outputs": [
    {
     "data": {
      "text/plain": [
       "25812"
      ]
     },
     "execution_count": 9,
     "metadata": {},
     "output_type": "execute_result"
    }
   ],
   "source": [
    "len(set(id1))"
   ]
  },
  {
   "cell_type": "code",
   "execution_count": 35,
   "metadata": {
    "ExecuteTime": {
     "end_time": "2020-11-27T11:37:45.055307Z",
     "start_time": "2020-11-27T11:37:34.143410Z"
    },
    "deletable": false,
    "editable": false,
    "run_control": {
     "frozen": true
    }
   },
   "outputs": [],
   "source": [
    "with open(root+lang + '/SourcererCC_test_label.txt','w', encoding='utf-8') as f:\n",
    "    for i in range(len(label)):\n",
    "    #for i in range(10):\n",
    "        row = label.iloc[i]\n",
    "        f.write('%d %d %d\\n'%(row['id1'], row['id2'], row['label']))\n",
    "    "
   ]
  }
 ],
 "metadata": {
  "kernelspec": {
   "display_name": "Python 3",
   "language": "python",
   "name": "python3"
  },
  "language_info": {
   "codemirror_mode": {
    "name": "ipython",
    "version": 3
   },
   "file_extension": ".py",
   "mimetype": "text/x-python",
   "name": "python",
   "nbconvert_exporter": "python",
   "pygments_lexer": "ipython3",
   "version": "3.8.5"
  },
  "toc": {
   "base_numbering": 1,
   "nav_menu": {},
   "number_sections": true,
   "sideBar": true,
   "skip_h1_title": false,
   "title_cell": "Table of Contents",
   "title_sidebar": "Contents",
   "toc_cell": false,
   "toc_position": {},
   "toc_section_display": true,
   "toc_window_display": false
  },
  "varInspector": {
   "cols": {
    "lenName": 16,
    "lenType": 16,
    "lenVar": 40
   },
   "kernels_config": {
    "python": {
     "delete_cmd_postfix": "",
     "delete_cmd_prefix": "del ",
     "library": "var_list.py",
     "varRefreshCmd": "print(var_dic_list())"
    },
    "r": {
     "delete_cmd_postfix": ") ",
     "delete_cmd_prefix": "rm(",
     "library": "var_list.r",
     "varRefreshCmd": "cat(var_dic_list()) "
    }
   },
   "types_to_exclude": [
    "module",
    "function",
    "builtin_function_or_method",
    "instance",
    "_Feature"
   ],
   "window_display": false
  }
 },
 "nbformat": 4,
 "nbformat_minor": 4
}
