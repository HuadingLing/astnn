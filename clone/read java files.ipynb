{
 "cells": [
  {
   "cell_type": "code",
   "execution_count": 131,
   "metadata": {
    "ExecuteTime": {
     "end_time": "2020-09-06T07:31:11.679525Z",
     "start_time": "2020-09-06T07:31:11.664535Z"
    }
   },
   "outputs": [],
   "source": [
    "import os\n",
    "import javalang\n",
    "\n",
    "PATH = './data/ttt/'\n",
    "#java_files = []\n",
    "#files = os.listdir(PATH) #得到文件夹下的所有文件名称\n",
    "\n",
    "def find_java(path, java_files):\n",
    "    files = os.listdir(path) #得到文件夹下的所有文件名称\n",
    "    for file in files:\n",
    "        if file[0] == '.':  # 隐藏文件或文件夹跳过\n",
    "            continue\n",
    "        if os.path.isdir(path+file):\n",
    "            find_java(path+file+'/', java_files)\n",
    "        elif file[-5:].lower()=='.java':\n",
    "            java_files.append(path+file)\n",
    "\n",
    "#find_java(PATH, java_files)\n",
    "\n",
    "\n",
    "def get_ast(filename):\n",
    "    assert not os.path.isdir(filename)\n",
    "    try:\n",
    "        with open(filename, 'r') as f:\n",
    "            code = f.read()\n",
    "    except:\n",
    "        return None\n",
    "    try:\n",
    "        ast = javalang.parse.parse(code)\n",
    "        #seq = trans2tokenseq(ast)\n",
    "        return ast\n",
    "    except:\n",
    "        return None\n",
    "    \n",
    "def get_functions(ast):\n",
    "    return list(ast.filter(javalang.tree.MethodDeclaration))\n",
    "\n",
    "def get_function_name(function_ast):\n",
    "    return function_ast.name\n",
    "\n",
    "def find_functions(path, project_dict):\n",
    "    files = os.listdir(path) #得到文件夹下的所有文件名称\n",
    "    for file in files:\n",
    "        if file[0] == '.':  # 隐藏文件或文件夹跳过\n",
    "            continue\n",
    "        if os.path.isdir(path+file):\n",
    "            find_functions(path+file+'/', project_dict)\n",
    "        elif file[-5:].lower()=='.java':\n",
    "            file_path = path+file\n",
    "            ast = get_ast(file_path)\n",
    "            if ast == None:\n",
    "                continue\n",
    "            functions = get_functions(ast)\n",
    "            \n",
    "            project_dict['file count'] += 1\n",
    "            file_profile = {}\n",
    "            file_profile['file path'] = file_path\n",
    "            file_profile['function count'] = len(functions)\n",
    "            file_profile['functions'] = []\n",
    "            \n",
    "            for _, node in functions:\n",
    "                function_name = get_function_name(node)\n",
    "                file_profile['functions'].append(function_name)\n",
    "            \n",
    "            project_dict['files'].append(file_profile)\n",
    "            \n",
    "def find_projects(path):\n",
    "    result = {}\n",
    "    result['project count'] = 0\n",
    "    result['projects'] = []\n",
    "    files = os.listdir(path) #得到文件夹下的所有文件名称\n",
    "    for file in files:\n",
    "        if file[0] == '.':  # 隐藏文件或文件夹跳过\n",
    "            continue\n",
    "        if os.path.isdir(path+file):\n",
    "            project_dict = {}\n",
    "            project_dict['project name'] = file\n",
    "            project_dict['project path'] = path+file\n",
    "            project_dict['file count'] = 0\n",
    "            project_dict['files'] = []\n",
    "            find_functions(path+file+'/', project_dict)\n",
    "            result['projects'].append(project_dict)\n",
    "            result['project count'] += 1\n",
    "    return result"
   ]
  },
  {
   "cell_type": "code",
   "execution_count": 132,
   "metadata": {
    "ExecuteTime": {
     "end_time": "2020-09-06T07:32:21.450845Z",
     "start_time": "2020-09-06T07:31:15.119185Z"
    }
   },
   "outputs": [],
   "source": [
    "result = find_projects(PATH)"
   ]
  },
  {
   "cell_type": "code",
   "execution_count": null,
   "metadata": {},
   "outputs": [],
   "source": []
  },
  {
   "cell_type": "code",
   "execution_count": 178,
   "metadata": {
    "ExecuteTime": {
     "end_time": "2020-09-06T09:11:35.877443Z",
     "start_time": "2020-09-06T09:11:35.873418Z"
    }
   },
   "outputs": [],
   "source": [
    "from utils import get_sequence\n",
    "\n",
    "def trans_to_sequences(ast):\n",
    "    sequence = []\n",
    "    get_sequence(ast, sequence)\n",
    "    return sequence\n",
    "\n",
    "def list_to_seq(l):\n",
    "    seq = l[0]\n",
    "    for word in l[1:]:\n",
    "        seq += ' ' + word\n",
    "    return seq"
   ]
  },
  {
   "cell_type": "code",
   "execution_count": 86,
   "metadata": {
    "ExecuteTime": {
     "end_time": "2020-09-05T14:00:10.938223Z",
     "start_time": "2020-09-05T14:00:10.870379Z"
    }
   },
   "outputs": [],
   "source": [
    "t = javalang.parse.parse(code)"
   ]
  },
  {
   "cell_type": "code",
   "execution_count": null,
   "metadata": {
    "ExecuteTime": {
     "start_time": "2020-09-05T14:25:03.215Z"
    }
   },
   "outputs": [],
   "source": [
    "for path, node in t.filter(javalang.tree.MethodDeclaration):\n",
    "    #print(path)\n",
    "    print(trans_to_sequences(node))"
   ]
  },
  {
   "cell_type": "code",
   "execution_count": 28,
   "metadata": {
    "ExecuteTime": {
     "end_time": "2020-09-06T05:57:13.589306Z",
     "start_time": "2020-09-06T05:57:13.581327Z"
    }
   },
   "outputs": [],
   "source": [
    "from utils import get_blocks_v1\n",
    "\n",
    "def tree_to_index(node):\n",
    "    token = node.token\n",
    "    result = [vocab[token].index if token in vocab else max_token]\n",
    "    children = node.children\n",
    "    for child in children:\n",
    "        result.append(tree_to_index(child))\n",
    "    return result\n",
    "\n",
    "def trans2seq(r):\n",
    "    blocks = []\n",
    "    get_blocks_v1(r, blocks)\n",
    "    tree = []\n",
    "    for b in blocks:\n",
    "        btree = tree_to_index(b)\n",
    "        tree.append(btree)\n",
    "    return tree\n",
    "\n",
    "\n",
    "def tree_to_token(node):\n",
    "    token = node.token\n",
    "    #result = [token if token in vocab else 'max_token']\n",
    "    result = [token]\n",
    "    children = node.children\n",
    "    for child in children:\n",
    "        result.append(tree_to_token(child))\n",
    "    return result\n",
    "\n",
    "def trans2tokenseq(r):\n",
    "    blocks = []\n",
    "    get_blocks_v1(r, blocks)\n",
    "    tree = []\n",
    "    for b in blocks:  # type(b) = ASTNode\n",
    "        btree = tree_to_token(b)\n",
    "        tree.append(btree)\n",
    "    return tree"
   ]
  },
  {
   "cell_type": "code",
   "execution_count": 36,
   "metadata": {
    "ExecuteTime": {
     "end_time": "2020-09-06T06:11:17.173036Z",
     "start_time": "2020-09-06T06:11:17.166054Z"
    }
   },
   "outputs": [],
   "source": [
    "from utils import get_token, get_children\n",
    "\n",
    "def visit(ast, l=0):\n",
    "    for c, child in ast.children():\n",
    "        print(' '*l, c, child.__class__.__name__, get_token(child))\n",
    "        visit(child, l+4)\n",
    "        \n",
    "def visit2(ast, l=0):\n",
    "    print(' '*l, ast.__class__.__name__, get_token(ast))\n",
    "    for c, child in ast.children():\n",
    "        visit2(child, l+4)\n",
    "        \n",
    "def visit3(ast, l=0):\n",
    "    print(' ' * l, ast.__class__.__name__, get_token(ast))\n",
    "    children = ast.children()\n",
    "    for i in range(len(children)):\n",
    "        visit2(children[i][1], l+4)"
   ]
  },
  {
   "cell_type": "code",
   "execution_count": 73,
   "metadata": {
    "ExecuteTime": {
     "end_time": "2020-09-06T06:37:33.665844Z",
     "start_time": "2020-09-06T06:37:33.661879Z"
    }
   },
   "outputs": [],
   "source": [
    "def visit_name(ast, l = 0, add_end = False):\n",
    "    print(' '*l, get_token(ast))\n",
    "    for child in get_children(ast):\n",
    "        visit_name(child, l+4)\n",
    "        if add_end:# and token.lower() == 'compound':\n",
    "            print(' '*(l+4), 'End')"
   ]
  },
  {
   "cell_type": "code",
   "execution_count": 106,
   "metadata": {
    "ExecuteTime": {
     "end_time": "2020-09-05T14:10:52.030641Z",
     "start_time": "2020-09-05T14:10:52.016678Z"
    }
   },
   "outputs": [
    {
     "ename": "TypeError",
     "evalue": "'list' object is not callable",
     "output_type": "error",
     "traceback": [
      "\u001b[1;31m---------------------------------------------------------------------------\u001b[0m",
      "\u001b[1;31mTypeError\u001b[0m                                 Traceback (most recent call last)",
      "\u001b[1;32m<ipython-input-106-893fcdaed8b5>\u001b[0m in \u001b[0;36m<module>\u001b[1;34m\u001b[0m\n\u001b[0;32m      1\u001b[0m \u001b[1;32mfor\u001b[0m \u001b[0mpath\u001b[0m\u001b[1;33m,\u001b[0m \u001b[0mnode\u001b[0m \u001b[1;32min\u001b[0m \u001b[0mt\u001b[0m\u001b[1;33m.\u001b[0m\u001b[0mfilter\u001b[0m\u001b[1;33m(\u001b[0m\u001b[0mjavalang\u001b[0m\u001b[1;33m.\u001b[0m\u001b[0mtree\u001b[0m\u001b[1;33m.\u001b[0m\u001b[0mMethodDeclaration\u001b[0m\u001b[1;33m)\u001b[0m\u001b[1;33m:\u001b[0m\u001b[1;33m\u001b[0m\u001b[1;33m\u001b[0m\u001b[0m\n\u001b[0;32m      2\u001b[0m     \u001b[1;31m#print(path)\u001b[0m\u001b[1;33m\u001b[0m\u001b[1;33m\u001b[0m\u001b[1;33m\u001b[0m\u001b[0m\n\u001b[1;32m----> 3\u001b[1;33m     \u001b[0mvisit_name\u001b[0m\u001b[1;33m(\u001b[0m\u001b[0mnode\u001b[0m\u001b[1;33m)\u001b[0m\u001b[1;33m\u001b[0m\u001b[1;33m\u001b[0m\u001b[0m\n\u001b[0m",
      "\u001b[1;32m<ipython-input-101-47b6c09f4db9>\u001b[0m in \u001b[0;36mvisit_name\u001b[1;34m(ast, l, add_end)\u001b[0m\n\u001b[0;32m      1\u001b[0m \u001b[1;32mdef\u001b[0m \u001b[0mvisit_name\u001b[0m\u001b[1;33m(\u001b[0m\u001b[0mast\u001b[0m\u001b[1;33m,\u001b[0m \u001b[0ml\u001b[0m\u001b[1;33m=\u001b[0m\u001b[1;36m0\u001b[0m\u001b[1;33m,\u001b[0m \u001b[0madd_end\u001b[0m \u001b[1;33m=\u001b[0m \u001b[1;32mFalse\u001b[0m\u001b[1;33m)\u001b[0m\u001b[1;33m:\u001b[0m\u001b[1;33m\u001b[0m\u001b[1;33m\u001b[0m\u001b[0m\n\u001b[1;32m----> 2\u001b[1;33m     \u001b[1;32mfor\u001b[0m \u001b[0mc\u001b[0m\u001b[1;33m,\u001b[0m \u001b[0mchild\u001b[0m \u001b[1;32min\u001b[0m \u001b[0mast\u001b[0m\u001b[1;33m.\u001b[0m\u001b[0mchildren\u001b[0m\u001b[1;33m(\u001b[0m\u001b[1;33m)\u001b[0m\u001b[1;33m:\u001b[0m\u001b[1;33m\u001b[0m\u001b[1;33m\u001b[0m\u001b[0m\n\u001b[0m\u001b[0;32m      3\u001b[0m         \u001b[0mtoken\u001b[0m \u001b[1;33m=\u001b[0m \u001b[0mget_token\u001b[0m\u001b[1;33m(\u001b[0m\u001b[0mchild\u001b[0m\u001b[1;33m)\u001b[0m\u001b[1;33m\u001b[0m\u001b[1;33m\u001b[0m\u001b[0m\n\u001b[0;32m      4\u001b[0m         \u001b[0mprint\u001b[0m\u001b[1;33m(\u001b[0m\u001b[1;34m' '\u001b[0m\u001b[1;33m*\u001b[0m\u001b[0ml\u001b[0m\u001b[1;33m,\u001b[0m \u001b[0mget_token\u001b[0m\u001b[1;33m(\u001b[0m\u001b[0mchild\u001b[0m\u001b[1;33m)\u001b[0m\u001b[1;33m)\u001b[0m\u001b[1;33m\u001b[0m\u001b[1;33m\u001b[0m\u001b[0m\n\u001b[0;32m      5\u001b[0m         \u001b[0mvisit_name\u001b[0m\u001b[1;33m(\u001b[0m\u001b[0mchild\u001b[0m\u001b[1;33m,\u001b[0m \u001b[0ml\u001b[0m\u001b[1;33m+\u001b[0m\u001b[1;36m4\u001b[0m\u001b[1;33m)\u001b[0m\u001b[1;33m\u001b[0m\u001b[1;33m\u001b[0m\u001b[0m\n",
      "\u001b[1;31mTypeError\u001b[0m: 'list' object is not callable"
     ]
    }
   ],
   "source": [
    "for path, node in t.filter(javalang.tree.MethodDeclaration):\n",
    "    #print(path)\n",
    "    visit_name(node)"
   ]
  }
 ],
 "metadata": {
  "kernelspec": {
   "display_name": "Python 3",
   "language": "python",
   "name": "python3"
  },
  "language_info": {
   "codemirror_mode": {
    "name": "ipython",
    "version": 3
   },
   "file_extension": ".py",
   "mimetype": "text/x-python",
   "name": "python",
   "nbconvert_exporter": "python",
   "pygments_lexer": "ipython3",
   "version": "3.8.5"
  },
  "toc": {
   "base_numbering": 1,
   "nav_menu": {},
   "number_sections": true,
   "sideBar": true,
   "skip_h1_title": false,
   "title_cell": "Table of Contents",
   "title_sidebar": "Contents",
   "toc_cell": false,
   "toc_position": {},
   "toc_section_display": true,
   "toc_window_display": false
  },
  "varInspector": {
   "cols": {
    "lenName": 16,
    "lenType": 16,
    "lenVar": 40
   },
   "kernels_config": {
    "python": {
     "delete_cmd_postfix": "",
     "delete_cmd_prefix": "del ",
     "library": "var_list.py",
     "varRefreshCmd": "print(var_dic_list())"
    },
    "r": {
     "delete_cmd_postfix": ") ",
     "delete_cmd_prefix": "rm(",
     "library": "var_list.r",
     "varRefreshCmd": "cat(var_dic_list()) "
    }
   },
   "types_to_exclude": [
    "module",
    "function",
    "builtin_function_or_method",
    "instance",
    "_Feature"
   ],
   "window_display": false
  }
 },
 "nbformat": 4,
 "nbformat_minor": 4
}
