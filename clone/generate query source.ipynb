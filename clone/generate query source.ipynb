{
 "cells": [
  {
   "cell_type": "code",
   "execution_count": 1,
   "metadata": {
    "ExecuteTime": {
     "end_time": "2020-08-14T13:51:34.627639Z",
     "start_time": "2020-08-14T13:51:30.936512Z"
    }
   },
   "outputs": [],
   "source": [
    "import pandas as pd\n",
    "root = 'data/'\n",
    "lang = 'java'\n",
    "categories = 1\n",
    "if lang == 'java':\n",
    "    categories = 5\n",
    "    \n",
    "#model_num = 5\n",
    "\n",
    "query_source = pd.read_pickle(root+lang+'/query_source.pkl')\n"
   ]
  },
  {
   "cell_type": "code",
   "execution_count": 2,
   "metadata": {
    "ExecuteTime": {
     "end_time": "2020-08-14T13:51:38.298821Z",
     "start_time": "2020-08-14T13:51:34.628665Z"
    }
   },
   "outputs": [
    {
     "name": "stderr",
     "output_type": "stream",
     "text": [
      "C:\\Users\\A1\\anaconda3\\envs\\pytorch\\lib\\site-packages\\torch\\cuda\\__init__.py:102: UserWarning: \n",
      "    Found GPU0 GeForce GT 730 which is of cuda capability 3.0.\n",
      "    PyTorch no longer supports this GPU because it is too old.\n",
      "    The minimum cuda capability that we support is 3.5.\n",
      "    \n",
      "  warnings.warn(old_gpu_warn % (d, name, major, capability[1]))\n",
      "C:\\Users\\A1\\anaconda3\\envs\\pytorch\\lib\\site-packages\\torch\\cuda\\__init__.py:125: UserWarning: \n",
      "GeForce GT 730 with CUDA capability sm_30 is not compatible with the current PyTorch installation.\n",
      "The current PyTorch install supports CUDA capabilities sm_37 sm_50 sm_60 sm_61 sm_70 sm_75 compute_37.\n",
      "If you want to use the GeForce GT 730 GPU with PyTorch, please check the instructions at https://pytorch.org/get-started/locally/\n",
      "\n",
      "  warnings.warn(incompatible_device_warn.format(device_name, capability, \" \".join(arch_list), device_name))\n"
     ]
    }
   ],
   "source": [
    "import torch\n",
    "from model import BatchProgramCC\n",
    "from gensim.models.word2vec import Word2Vec\n",
    "\n",
    "def get_device():\n",
    "    if torch.cuda.is_available():\n",
    "        if torch.cuda.get_device_name(0) == 'GeForce GT 730':\n",
    "            device = 'cpu'\n",
    "        else:\n",
    "            device = 'cuda'\n",
    "    else:\n",
    "        device = 'cpu'\n",
    "    return torch.device(device)\n",
    "\n",
    "device = get_device()\n",
    "\n",
    "word2vec = Word2Vec.load(root+lang+\"/train/embedding/node_w2v_128\").wv\n",
    "MAX_TOKENS = word2vec.vectors.shape[0]\n",
    "EMBEDDING_DIM = word2vec.vectors.shape[1]\n",
    "\n",
    "HIDDEN_DIM = 100\n",
    "ENCODE_DIM = 128\n",
    "LABELS = 1\n",
    "EPOCHS = 10\n",
    "BATCH_SIZE = 1\n",
    "\n",
    "type_list = [1, 2, 3, 4, 5]\n",
    "models = []\n",
    "for t in type_list:\n",
    "    model = BatchProgramCC(EMBEDDING_DIM,\n",
    "                           HIDDEN_DIM,\n",
    "                           MAX_TOKENS+1,\n",
    "                           ENCODE_DIM,\n",
    "                           LABELS,\n",
    "                           BATCH_SIZE,\n",
    "                           device\n",
    "                           )\n",
    "\n",
    "    model.to(device)\n",
    "    model.load_state_dict(torch.load('code_clone_detection_java_model_train_on_30_percent_label_' + str(t) + '.pt'))\n",
    "    model.eval()\n",
    "    models.append(model)"
   ]
  },
  {
   "cell_type": "code",
   "execution_count": 3,
   "metadata": {
    "ExecuteTime": {
     "end_time": "2020-08-14T13:51:38.305803Z",
     "start_time": "2020-08-14T13:51:38.299818Z"
    }
   },
   "outputs": [],
   "source": [
    "class vector_calculation():\n",
    "    def __init__(self, model):\n",
    "        self.model = model\n",
    "    def __call__(self, x):\n",
    "        with torch.no_grad():\n",
    "            vector = self.model.encode([x]).reshape(-1)\n",
    "        return vector.cpu().numpy()\n",
    "    \n",
    "def get_batch(dataset, idx, bs):\n",
    "    tmp = dataset.iloc[idx: idx+bs]\n",
    "    x = []\n",
    "    for _, item in tmp.iterrows():\n",
    "        x.append(item['block'])\n",
    "    return x"
   ]
  },
  {
   "cell_type": "code",
   "execution_count": 4,
   "metadata": {
    "ExecuteTime": {
     "end_time": "2020-08-14T14:10:37.494002Z",
     "start_time": "2020-08-14T13:51:38.306800Z"
    }
   },
   "outputs": [],
   "source": [
    "for t in type_list:\n",
    "    query_source['vector-'+str(t)] = query_source['block'].apply(vector_calculation(models[t-1]))"
   ]
  },
  {
   "cell_type": "code",
   "execution_count": null,
   "metadata": {
    "ExecuteTime": {
     "end_time": "2020-08-13T06:34:44.938713Z",
     "start_time": "2020-08-13T06:15:13.123472Z"
    },
    "deletable": false,
    "editable": false,
    "run_control": {
     "frozen": true
    }
   },
   "outputs": [],
   "source": [
    "type_1_vector = []\n",
    "i = 0\n",
    "while i < len(query_source):\n",
    "    blocks = get_batch(query_source, i, BATCH_SIZE)\n",
    "    with torch.no_grad():\n",
    "        model.batch_size = len(blocks)\n",
    "        model.hidden = model.init_hidden()\n",
    "        vectors = model.encode(blocks)\n",
    "    type_1_vector.extend(vectors)\n",
    "type_1_vector = [v.cpu().numpy() for v in type_1_vector]\n",
    "query_source['type-2 vector fast'] = type_1_vector"
   ]
  },
  {
   "cell_type": "code",
   "execution_count": 5,
   "metadata": {
    "ExecuteTime": {
     "end_time": "2020-08-14T14:10:40.576570Z",
     "start_time": "2020-08-14T14:10:37.495000Z"
    }
   },
   "outputs": [],
   "source": [
    "query_source.to_pickle(root+lang+'/query_source.pkl')"
   ]
  }
 ],
 "metadata": {
  "kernelspec": {
   "display_name": "Python 3",
   "language": "python",
   "name": "python3"
  },
  "language_info": {
   "codemirror_mode": {
    "name": "ipython",
    "version": 3
   },
   "file_extension": ".py",
   "mimetype": "text/x-python",
   "name": "python",
   "nbconvert_exporter": "python",
   "pygments_lexer": "ipython3",
   "version": "3.8.5"
  },
  "toc": {
   "base_numbering": 1,
   "nav_menu": {},
   "number_sections": true,
   "sideBar": true,
   "skip_h1_title": false,
   "title_cell": "Table of Contents",
   "title_sidebar": "Contents",
   "toc_cell": false,
   "toc_position": {},
   "toc_section_display": true,
   "toc_window_display": false
  },
  "varInspector": {
   "cols": {
    "lenName": 16,
    "lenType": 16,
    "lenVar": 40
   },
   "kernels_config": {
    "python": {
     "delete_cmd_postfix": "",
     "delete_cmd_prefix": "del ",
     "library": "var_list.py",
     "varRefreshCmd": "print(var_dic_list())"
    },
    "r": {
     "delete_cmd_postfix": ") ",
     "delete_cmd_prefix": "rm(",
     "library": "var_list.r",
     "varRefreshCmd": "cat(var_dic_list()) "
    }
   },
   "types_to_exclude": [
    "module",
    "function",
    "builtin_function_or_method",
    "instance",
    "_Feature"
   ],
   "window_display": false
  }
 },
 "nbformat": 4,
 "nbformat_minor": 4
}
