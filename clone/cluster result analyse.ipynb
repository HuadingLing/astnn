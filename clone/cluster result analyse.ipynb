{
 "cells": [
  {
   "cell_type": "code",
   "execution_count": 1,
   "metadata": {
    "ExecuteTime": {
     "end_time": "2020-10-06T12:46:48.946446Z",
     "start_time": "2020-10-06T12:46:37.333603Z"
    }
   },
   "outputs": [],
   "source": [
    "import numpy as np\n",
    "\n",
    "xmeans_path = 'data/Xmeans dataset/'\n",
    "encode_file = 'T4.txt'\n",
    "result_file = 'result.txt'\n",
    "#encode_file = 'T4_copy.txt'\n",
    "#result_file = 'result_copy.txt'\n",
    "\n",
    "encode = np.loadtxt(xmeans_path + encode_file, delimiter=',')\n",
    "result = np.loadtxt(xmeans_path + result_file)"
   ]
  },
  {
   "cell_type": "code",
   "execution_count": 19,
   "metadata": {
    "ExecuteTime": {
     "end_time": "2020-10-06T12:57:44.842792Z",
     "start_time": "2020-10-06T12:57:44.823297Z"
    }
   },
   "outputs": [],
   "source": [
    "result_labels = np.unique(result)\n",
    "centers = np.zeros((len(result_labels), encode.shape[1]), dtype=np.float64)"
   ]
  },
  {
   "cell_type": "code",
   "execution_count": 20,
   "metadata": {
    "ExecuteTime": {
     "end_time": "2020-10-06T12:57:46.636860Z",
     "start_time": "2020-10-06T12:57:46.485843Z"
    }
   },
   "outputs": [],
   "source": [
    "for i, label in enumerate(result_labels):\n",
    "    centers[i]=np.mean(encode[result==label], axis=0)"
   ]
  },
  {
   "cell_type": "code",
   "execution_count": 21,
   "metadata": {
    "ExecuteTime": {
     "end_time": "2020-10-06T12:57:48.132803Z",
     "start_time": "2020-10-06T12:57:48.118811Z"
    }
   },
   "outputs": [],
   "source": [
    "class Xmeans_Classifier():\n",
    "    def __init__(self, centers, labels = None, ord=None):\n",
    "        self.centers = centers\n",
    "        if labels is None:\n",
    "            self.labels = [i for i in range(len(centers))]\n",
    "        else:\n",
    "            self.labels = labels\n",
    "        self.ord = ord\n",
    "        \n",
    "    def __call__(self, x):\n",
    "        dist = np.linalg.norm(x-self.centers, self.ord, axis=1)\n",
    "        return self.labels[np.argmin(dist)]\n"
   ]
  },
  {
   "cell_type": "code",
   "execution_count": 22,
   "metadata": {
    "ExecuteTime": {
     "end_time": "2020-10-06T12:57:55.298893Z",
     "start_time": "2020-10-06T12:57:51.286919Z"
    },
    "scrolled": true
   },
   "outputs": [],
   "source": [
    "classifier = Xmeans_Classifier(centers, result_labels, np.inf)\n",
    "check_result = np.empty_like(result)\n",
    "for i, e in enumerate(encode):\n",
    "    check_result[i] = classifier(e)"
   ]
  },
  {
   "cell_type": "code",
   "execution_count": 24,
   "metadata": {
    "ExecuteTime": {
     "end_time": "2020-10-06T12:57:59.082866Z",
     "start_time": "2020-10-06T12:57:59.076883Z"
    }
   },
   "outputs": [
    {
     "data": {
      "text/plain": [
       "24297"
      ]
     },
     "execution_count": 24,
     "metadata": {},
     "output_type": "execute_result"
    }
   ],
   "source": [
    "np.sum(check_result!=result)"
   ]
  }
 ],
 "metadata": {
  "kernelspec": {
   "display_name": "Python 3",
   "language": "python",
   "name": "python3"
  },
  "language_info": {
   "codemirror_mode": {
    "name": "ipython",
    "version": 3
   },
   "file_extension": ".py",
   "mimetype": "text/x-python",
   "name": "python",
   "nbconvert_exporter": "python",
   "pygments_lexer": "ipython3",
   "version": "3.8.5"
  },
  "toc": {
   "base_numbering": 1,
   "nav_menu": {},
   "number_sections": true,
   "sideBar": true,
   "skip_h1_title": false,
   "title_cell": "Table of Contents",
   "title_sidebar": "Contents",
   "toc_cell": false,
   "toc_position": {},
   "toc_section_display": true,
   "toc_window_display": false
  },
  "varInspector": {
   "cols": {
    "lenName": 16,
    "lenType": 16,
    "lenVar": 40
   },
   "kernels_config": {
    "python": {
     "delete_cmd_postfix": "",
     "delete_cmd_prefix": "del ",
     "library": "var_list.py",
     "varRefreshCmd": "print(var_dic_list())"
    },
    "r": {
     "delete_cmd_postfix": ") ",
     "delete_cmd_prefix": "rm(",
     "library": "var_list.r",
     "varRefreshCmd": "cat(var_dic_list()) "
    }
   },
   "types_to_exclude": [
    "module",
    "function",
    "builtin_function_or_method",
    "instance",
    "_Feature"
   ],
   "window_display": false
  }
 },
 "nbformat": 4,
 "nbformat_minor": 4
}
