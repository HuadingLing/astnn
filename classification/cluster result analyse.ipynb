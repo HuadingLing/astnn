{
 "cells": [
  {
   "cell_type": "code",
   "execution_count": 1,
   "metadata": {
    "ExecuteTime": {
     "end_time": "2020-10-07T11:12:14.944949Z",
     "start_time": "2020-10-07T11:12:06.958471Z"
    }
   },
   "outputs": [],
   "source": [
    "import numpy as np\n",
    "import torch\n",
    "\n",
    "xmeans_path = 'data/Xmeans dataset/'\n",
    "encode_file = 'cluster data.txt'\n",
    "#result_file = 'result MinkowskiDistance.txt'\n",
    "#result_file = 'result EuclideanDistance.txt'\n",
    "#result_file = 'result ChebyshevDistance.txt'\n",
    "result_file = 'result ManhattanDistance.txt'\n",
    "\n",
    "\n",
    "\n",
    "encode = np.loadtxt(xmeans_path + encode_file, delimiter=',')\n",
    "result = np.loadtxt(xmeans_path + result_file, dtype=np.int32)"
   ]
  },
  {
   "cell_type": "code",
   "execution_count": 2,
   "metadata": {
    "ExecuteTime": {
     "end_time": "2020-10-07T11:12:14.951922Z",
     "start_time": "2020-10-07T11:12:14.945934Z"
    }
   },
   "outputs": [],
   "source": [
    "result_labels = np.unique(result)\n",
    "centers = np.zeros((len(result_labels), encode.shape[1]), dtype=np.float64)"
   ]
  },
  {
   "cell_type": "code",
   "execution_count": 3,
   "metadata": {
    "ExecuteTime": {
     "end_time": "2020-10-07T11:12:15.038698Z",
     "start_time": "2020-10-07T11:12:14.952886Z"
    }
   },
   "outputs": [],
   "source": [
    "for i, label in enumerate(result_labels):\n",
    "    centers[i]=np.mean(encode[result==label], axis=0)"
   ]
  },
  {
   "cell_type": "code",
   "execution_count": 4,
   "metadata": {
    "ExecuteTime": {
     "end_time": "2020-10-07T11:12:15.044670Z",
     "start_time": "2020-10-07T11:12:15.039660Z"
    }
   },
   "outputs": [],
   "source": [
    "class Xmeans_Classifier():\n",
    "    def __init__(self, centers, labels = None, ord=None):\n",
    "        self.centers = centers\n",
    "        if labels is None:\n",
    "            self.labels = [i for i in range(len(centers))]\n",
    "        else:\n",
    "            self.labels = labels\n",
    "        self.ord = ord\n",
    "        \n",
    "    def __call__(self, x):\n",
    "        dist = np.linalg.norm(x-self.centers, self.ord, axis=1)\n",
    "        return self.labels[np.argmin(dist)]\n"
   ]
  },
  {
   "cell_type": "code",
   "execution_count": 5,
   "metadata": {
    "ExecuteTime": {
     "end_time": "2020-10-07T11:12:22.079372Z",
     "start_time": "2020-10-07T11:12:15.045639Z"
    },
    "scrolled": true
   },
   "outputs": [],
   "source": [
    "classifier = Xmeans_Classifier(centers, result_labels, 1)\n",
    "check_result = np.empty_like(result)\n",
    "for i, e in enumerate(encode):\n",
    "    check_result[i] = classifier(e)"
   ]
  },
  {
   "cell_type": "code",
   "execution_count": 6,
   "metadata": {
    "ExecuteTime": {
     "end_time": "2020-10-07T11:12:22.092255Z",
     "start_time": "2020-10-07T11:12:22.080257Z"
    }
   },
   "outputs": [
    {
     "data": {
      "text/plain": [
       "3508"
      ]
     },
     "execution_count": 6,
     "metadata": {},
     "output_type": "execute_result"
    }
   ],
   "source": [
    "np.sum(check_result!=result)"
   ]
  },
  {
   "cell_type": "code",
   "execution_count": 7,
   "metadata": {
    "ExecuteTime": {
     "end_time": "2020-10-07T11:12:31.554036Z",
     "start_time": "2020-10-07T11:12:22.093222Z"
    }
   },
   "outputs": [
    {
     "name": "stderr",
     "output_type": "stream",
     "text": [
      "C:\\Users\\A1\\anaconda3\\envs\\pytorch\\lib\\site-packages\\torch\\cuda\\__init__.py:102: UserWarning: \n",
      "    Found GPU0 GeForce GT 730 which is of cuda capability 3.0.\n",
      "    PyTorch no longer supports this GPU because it is too old.\n",
      "    The minimum cuda capability that we support is 3.5.\n",
      "    \n",
      "  warnings.warn(old_gpu_warn % (d, name, major, capability[1]))\n",
      "C:\\Users\\A1\\anaconda3\\envs\\pytorch\\lib\\site-packages\\torch\\cuda\\__init__.py:125: UserWarning: \n",
      "GeForce GT 730 with CUDA capability sm_30 is not compatible with the current PyTorch installation.\n",
      "The current PyTorch install supports CUDA capabilities sm_37 sm_50 sm_60 sm_61 sm_70 sm_75 compute_37.\n",
      "If you want to use the GeForce GT 730 GPU with PyTorch, please check the instructions at https://pytorch.org/get-started/locally/\n",
      "\n",
      "  warnings.warn(incompatible_device_warn.format(device_name, capability, \" \".join(arch_list), device_name))\n"
     ]
    },
    {
     "data": {
      "text/plain": [
       "BatchProgramCC(\n",
       "  (encoder): BatchTreeEncoder(\n",
       "    (embedding): Embedding(8189, 128)\n",
       "    (W_c): Linear(in_features=128, out_features=128, bias=True)\n",
       "  )\n",
       "  (bigru): GRU(128, 100, batch_first=True, bidirectional=True)\n",
       "  (hidden2label): Linear(in_features=200, out_features=104, bias=True)\n",
       ")"
      ]
     },
     "execution_count": 7,
     "metadata": {},
     "output_type": "execute_result"
    }
   ],
   "source": [
    "import pandas as pd\n",
    "from model import BatchProgramCC\n",
    "from gensim.models.word2vec import Word2Vec\n",
    "\n",
    "def get_device():\n",
    "    if torch.cuda.is_available():\n",
    "        if torch.cuda.get_device_name(0) == 'GeForce GT 730':\n",
    "            device = 'cpu'\n",
    "        else:\n",
    "            device = 'cuda'\n",
    "    else:\n",
    "        device = 'cpu'\n",
    "    return torch.device(device)\n",
    "\n",
    "device = get_device()\n",
    "\n",
    "root = 'data/'\n",
    "train_data = pd.read_pickle(root+'train/blocks.pkl')#.sample(frac=0.1)\n",
    "validation_data = pd.read_pickle(root + 'dev/blocks.pkl')#.sample(frac=0.1)\n",
    "test_data = pd.read_pickle(root+'test/blocks.pkl')#.sample(frac=0.1)\n",
    "ast_embedded = pd.concat([train_data, validation_data, test_data], ignore_index=True)\n",
    "del train_data\n",
    "del validation_data\n",
    "del test_data\n",
    "ast_embedded['label'] -= 1  # from [1, 104] to [0, 103]\n",
    "\n",
    "\n",
    "word2vec = Word2Vec.load(root+\"train/embedding/node_w2v_128\").wv\n",
    "MAX_TOKENS = word2vec.vectors.shape[0]\n",
    "EMBEDDING_DIM = word2vec.vectors.shape[1]\n",
    "\n",
    "HIDDEN_DIM = 100\n",
    "ENCODE_DIM = 128\n",
    "LABELS = 104\n",
    "BATCH_SIZE = 128\n",
    "\n",
    "model_file = '20201006_151536 model for classification task/20201007_013732 model for classification task epoch_35 val.pt'\n",
    "save_dir = '---- classification model/'\n",
    "\n",
    "\n",
    "model = BatchProgramCC(EMBEDDING_DIM,\n",
    "                       HIDDEN_DIM,\n",
    "                       MAX_TOKENS+1,\n",
    "                       ENCODE_DIM,\n",
    "                       LABELS,\n",
    "                       BATCH_SIZE,\n",
    "                       device).to(device)\n",
    "\n",
    "model.load_state_dict(torch.load(save_dir + model_file)['param'])\n",
    "model.eval()"
   ]
  },
  {
   "cell_type": "code",
   "execution_count": 22,
   "metadata": {
    "ExecuteTime": {
     "end_time": "2020-10-07T11:42:33.595108Z",
     "start_time": "2020-10-07T11:42:33.587129Z"
    }
   },
   "outputs": [],
   "source": [
    "import math\n",
    "class dataloader():\n",
    "    def __init__(self, dataset, batch_size):\n",
    "        self.dataset = dataset\n",
    "        self.batch_size = batch_size\n",
    "        self.idx = 0\n",
    "        self.max_idx = len(dataset)\n",
    "        self.len = math.ceil(len(self.dataset) / self.batch_size)\n",
    "        \n",
    "    def __call__(self):\n",
    "        pass\n",
    "    \n",
    "    def __len__(self):\n",
    "        return self.len\n",
    "    \n",
    "    def __iter__(self):\n",
    "        self.idx = 0\n",
    "        return self\n",
    "    \n",
    "    def __next__(self):\n",
    "        if self.idx >= self.max_idx:\n",
    "            raise StopIteration\n",
    "        tmp = self.dataset.iloc[self.idx: self.idx+self.batch_size]\n",
    "        x = []\n",
    "        for _, item in tmp.iterrows():\n",
    "            x.append(item['code'])\n",
    "        self.idx += self.batch_size\n",
    "        return x\n",
    "    \n",
    "def count_most(obj):\n",
    "    if len(obj) > 0:\n",
    "        return np.max([np.sum(obj==i) for i in set(obj)])  # 出现次数最多的出现了多少次\n",
    "    else:\n",
    "        return 0"
   ]
  },
  {
   "cell_type": "code",
   "execution_count": 9,
   "metadata": {
    "ExecuteTime": {
     "end_time": "2020-10-07T11:22:01.943817Z",
     "start_time": "2020-10-07T11:12:31.568001Z"
    }
   },
   "outputs": [],
   "source": [
    "ast_embedded_loader = dataloader(ast_embedded, BATCH_SIZE)\n",
    "\n",
    "features = []\n",
    "with torch.no_grad():\n",
    "    for x in ast_embedded_loader:\n",
    "        model.batch_size = len(x)\n",
    "        model.hidden = model.init_hidden()\n",
    "        f = model.encode(x).cpu().numpy()\n",
    "        features.extend(f)\n",
    "        \n",
    "#features=np.array(features)"
   ]
  },
  {
   "cell_type": "code",
   "execution_count": 10,
   "metadata": {
    "ExecuteTime": {
     "end_time": "2020-10-07T11:22:10.066982Z",
     "start_time": "2020-10-07T11:22:01.948803Z"
    }
   },
   "outputs": [],
   "source": [
    "cluster_label = np.array([classifier(f) for f in features])\n",
    "label = np.array(list(ast_embedded['label']))\n"
   ]
  },
  {
   "cell_type": "code",
   "execution_count": 23,
   "metadata": {
    "ExecuteTime": {
     "end_time": "2020-10-07T11:42:57.263312Z",
     "start_time": "2020-10-07T11:42:57.217402Z"
    }
   },
   "outputs": [],
   "source": [
    "count = 0\n",
    "for i in result_labels:\n",
    "    count += count_most(label[cluster_label==i])"
   ]
  },
  {
   "cell_type": "code",
   "execution_count": 51,
   "metadata": {
    "ExecuteTime": {
     "end_time": "2020-10-07T07:12:01.816817Z",
     "start_time": "2020-10-07T07:12:01.812797Z"
    },
    "deletable": false,
    "editable": false,
    "run_control": {
     "frozen": true
    },
    "scrolled": true
   },
   "outputs": [
    {
     "data": {
      "text/plain": [
       "0.9845964500682679"
      ]
     },
     "execution_count": 51,
     "metadata": {},
     "output_type": "execute_result"
    }
   ],
   "source": [
    "# EuclideanDistance\n",
    "count/len(label)"
   ]
  },
  {
   "cell_type": "code",
   "execution_count": 12,
   "metadata": {
    "ExecuteTime": {
     "end_time": "2020-10-07T07:24:47.547510Z",
     "start_time": "2020-10-07T07:24:47.540529Z"
    },
    "deletable": false,
    "editable": false,
    "run_control": {
     "frozen": true
    }
   },
   "outputs": [
    {
     "data": {
      "text/plain": [
       "0.9793273206284494"
      ]
     },
     "execution_count": 12,
     "metadata": {},
     "output_type": "execute_result"
    }
   ],
   "source": [
    "# ChebyshevDistance\n",
    "count/len(label)"
   ]
  },
  {
   "cell_type": "code",
   "execution_count": 24,
   "metadata": {
    "ExecuteTime": {
     "end_time": "2020-10-07T11:43:03.879221Z",
     "start_time": "2020-10-07T11:43:03.873237Z"
    },
    "deletable": false,
    "editable": false,
    "run_control": {
     "frozen": true
    }
   },
   "outputs": [
    {
     "data": {
      "text/plain": [
       "0.985327205246053"
      ]
     },
     "execution_count": 24,
     "metadata": {},
     "output_type": "execute_result"
    }
   ],
   "source": [
    "# ManhattanDistance\n",
    "count/len(label)"
   ]
  },
  {
   "cell_type": "code",
   "execution_count": 8,
   "metadata": {
    "ExecuteTime": {
     "end_time": "2020-10-07T03:07:52.120132Z",
     "start_time": "2020-10-07T03:07:52.116144Z"
    },
    "deletable": false,
    "editable": false,
    "run_control": {
     "frozen": true
    }
   },
   "outputs": [],
   "source": [
    "class vector_calculation():\n",
    "    def __init__(self, model):\n",
    "        self.model = model\n",
    "    def __call__(self, x):\n",
    "        with torch.no_grad():\n",
    "            vector = self.model.encode([x]).reshape(-1)\n",
    "        return vector.cpu().numpy()\n"
   ]
  },
  {
   "cell_type": "code",
   "execution_count": 9,
   "metadata": {
    "ExecuteTime": {
     "end_time": "2020-10-07T03:14:46.328042Z",
     "start_time": "2020-10-07T03:07:52.122129Z"
    },
    "deletable": false,
    "editable": false,
    "run_control": {
     "frozen": true
    }
   },
   "outputs": [],
   "source": [
    "ast_embedded['features'] = ast_embedded['code'].apply(vector_calculation(model))"
   ]
  },
  {
   "cell_type": "code",
   "execution_count": 10,
   "metadata": {
    "ExecuteTime": {
     "end_time": "2020-10-07T03:14:56.070179Z",
     "start_time": "2020-10-07T03:14:46.329039Z"
    },
    "deletable": false,
    "editable": false,
    "run_control": {
     "frozen": true
    }
   },
   "outputs": [],
   "source": [
    "ast_embedded['cluster_label'] = ast_embedded['features'].apply(classifier)"
   ]
  },
  {
   "cell_type": "code",
   "execution_count": 11,
   "metadata": {
    "ExecuteTime": {
     "end_time": "2020-10-07T03:15:06.988824Z",
     "start_time": "2020-10-07T03:15:06.795312Z"
    },
    "deletable": false,
    "editable": false,
    "run_control": {
     "frozen": true
    },
    "scrolled": false
   },
   "outputs": [
    {
     "data": {
      "text/html": [
       "<div>\n",
       "<style scoped>\n",
       "    .dataframe tbody tr th:only-of-type {\n",
       "        vertical-align: middle;\n",
       "    }\n",
       "\n",
       "    .dataframe tbody tr th {\n",
       "        vertical-align: top;\n",
       "    }\n",
       "\n",
       "    .dataframe thead th {\n",
       "        text-align: right;\n",
       "    }\n",
       "</style>\n",
       "<table border=\"1\" class=\"dataframe\">\n",
       "  <thead>\n",
       "    <tr style=\"text-align: right;\">\n",
       "      <th></th>\n",
       "      <th>id</th>\n",
       "      <th>code</th>\n",
       "      <th>label</th>\n",
       "      <th>features</th>\n",
       "      <th>cluster_label</th>\n",
       "    </tr>\n",
       "  </thead>\n",
       "  <tbody>\n",
       "    <tr>\n",
       "      <th>0</th>\n",
       "      <td>46887</td>\n",
       "      <td>[[32, [2, [30, [40, [81]]]]], [6], [2, [9, [4]...</td>\n",
       "      <td>92</td>\n",
       "      <td>[0.36035618, 0.4078555, 0.9507338, 0.103660464...</td>\n",
       "      <td>358.0</td>\n",
       "    </tr>\n",
       "    <tr>\n",
       "      <th>1</th>\n",
       "      <td>4970</td>\n",
       "      <td>[[32, [2, [30, [40, [4]]]]], [6], [2, [13, [4]...</td>\n",
       "      <td>41</td>\n",
       "      <td>[0.3429833, 0.4664078, -0.02911116, 0.18196319...</td>\n",
       "      <td>372.0</td>\n",
       "    </tr>\n",
       "    <tr>\n",
       "      <th>2</th>\n",
       "      <td>50521</td>\n",
       "      <td>[[32, [2, [30, [1296, [4]]]]], [6], [11, [36],...</td>\n",
       "      <td>76</td>\n",
       "      <td>[0.23876348, 0.2395441, 0.96246934, 0.1054171,...</td>\n",
       "      <td>96.0</td>\n",
       "    </tr>\n",
       "    <tr>\n",
       "      <th>3</th>\n",
       "      <td>38406</td>\n",
       "      <td>[[32, [2, [30, [40, [4]]]]], [6], [2, [23, [23...</td>\n",
       "      <td>62</td>\n",
       "      <td>[0.34282124, 0.42330775, 0.9673714, 0.8964845,...</td>\n",
       "      <td>450.0</td>\n",
       "    </tr>\n",
       "    <tr>\n",
       "      <th>4</th>\n",
       "      <td>44230</td>\n",
       "      <td>[[32, [2, [30, [40, [4]]]]], [6], [2, [411, [4...</td>\n",
       "      <td>79</td>\n",
       "      <td>[0.34282124, 0.4148038, 0.9456779, 0.99406946,...</td>\n",
       "      <td>164.0</td>\n",
       "    </tr>\n",
       "    <tr>\n",
       "      <th>...</th>\n",
       "      <td>...</td>\n",
       "      <td>...</td>\n",
       "      <td>...</td>\n",
       "      <td>...</td>\n",
       "      <td>...</td>\n",
       "    </tr>\n",
       "    <tr>\n",
       "      <th>51996</th>\n",
       "      <td>43422</td>\n",
       "      <td>[[32, [2, [30, [40, [4]]]]], [6], [2, [68, [35...</td>\n",
       "      <td>87</td>\n",
       "      <td>[0.34282124, 0.35292643, 0.9748325, 0.12975913...</td>\n",
       "      <td>561.0</td>\n",
       "    </tr>\n",
       "    <tr>\n",
       "      <th>51997</th>\n",
       "      <td>41030</td>\n",
       "      <td>[[32, [2, [30, [40, [4]]]]], [6], [2, [23, [71...</td>\n",
       "      <td>16</td>\n",
       "      <td>[0.34282124, 0.26806018, 0.98776746, 0.1297591...</td>\n",
       "      <td>214.0</td>\n",
       "    </tr>\n",
       "    <tr>\n",
       "      <th>51998</th>\n",
       "      <td>2878</td>\n",
       "      <td>[[32, [2, [30, [40, [4]]]]], [6], [2, [13, [4]...</td>\n",
       "      <td>88</td>\n",
       "      <td>[0.35464072, 0.4389839, 0.9766421, 0.12975913,...</td>\n",
       "      <td>47.0</td>\n",
       "    </tr>\n",
       "    <tr>\n",
       "      <th>51999</th>\n",
       "      <td>40365</td>\n",
       "      <td>[[32, [2, [30, [40, [4]]]]], [6], [2, [23, [9,...</td>\n",
       "      <td>63</td>\n",
       "      <td>[0.34282124, 0.30945837, 0.97175664, 0.8699453...</td>\n",
       "      <td>239.0</td>\n",
       "    </tr>\n",
       "    <tr>\n",
       "      <th>52000</th>\n",
       "      <td>10114</td>\n",
       "      <td>[[32, [2, [30, [40, [81]]]]], [6], [2, [24, [4...</td>\n",
       "      <td>53</td>\n",
       "      <td>[0.36563498, 0.44012552, 0.36226618, 0.8326238...</td>\n",
       "      <td>565.0</td>\n",
       "    </tr>\n",
       "  </tbody>\n",
       "</table>\n",
       "<p>52001 rows × 5 columns</p>\n",
       "</div>"
      ],
      "text/plain": [
       "          id                                               code  label  \\\n",
       "0      46887  [[32, [2, [30, [40, [81]]]]], [6], [2, [9, [4]...     92   \n",
       "1       4970  [[32, [2, [30, [40, [4]]]]], [6], [2, [13, [4]...     41   \n",
       "2      50521  [[32, [2, [30, [1296, [4]]]]], [6], [11, [36],...     76   \n",
       "3      38406  [[32, [2, [30, [40, [4]]]]], [6], [2, [23, [23...     62   \n",
       "4      44230  [[32, [2, [30, [40, [4]]]]], [6], [2, [411, [4...     79   \n",
       "...      ...                                                ...    ...   \n",
       "51996  43422  [[32, [2, [30, [40, [4]]]]], [6], [2, [68, [35...     87   \n",
       "51997  41030  [[32, [2, [30, [40, [4]]]]], [6], [2, [23, [71...     16   \n",
       "51998   2878  [[32, [2, [30, [40, [4]]]]], [6], [2, [13, [4]...     88   \n",
       "51999  40365  [[32, [2, [30, [40, [4]]]]], [6], [2, [23, [9,...     63   \n",
       "52000  10114  [[32, [2, [30, [40, [81]]]]], [6], [2, [24, [4...     53   \n",
       "\n",
       "                                                features  cluster_label  \n",
       "0      [0.36035618, 0.4078555, 0.9507338, 0.103660464...          358.0  \n",
       "1      [0.3429833, 0.4664078, -0.02911116, 0.18196319...          372.0  \n",
       "2      [0.23876348, 0.2395441, 0.96246934, 0.1054171,...           96.0  \n",
       "3      [0.34282124, 0.42330775, 0.9673714, 0.8964845,...          450.0  \n",
       "4      [0.34282124, 0.4148038, 0.9456779, 0.99406946,...          164.0  \n",
       "...                                                  ...            ...  \n",
       "51996  [0.34282124, 0.35292643, 0.9748325, 0.12975913...          561.0  \n",
       "51997  [0.34282124, 0.26806018, 0.98776746, 0.1297591...          214.0  \n",
       "51998  [0.35464072, 0.4389839, 0.9766421, 0.12975913,...           47.0  \n",
       "51999  [0.34282124, 0.30945837, 0.97175664, 0.8699453...          239.0  \n",
       "52000  [0.36563498, 0.44012552, 0.36226618, 0.8326238...          565.0  \n",
       "\n",
       "[52001 rows x 5 columns]"
      ]
     },
     "execution_count": 11,
     "metadata": {},
     "output_type": "execute_result"
    }
   ],
   "source": [
    "ast_embedded"
   ]
  }
 ],
 "metadata": {
  "kernelspec": {
   "display_name": "Python 3",
   "language": "python",
   "name": "python3"
  },
  "language_info": {
   "codemirror_mode": {
    "name": "ipython",
    "version": 3
   },
   "file_extension": ".py",
   "mimetype": "text/x-python",
   "name": "python",
   "nbconvert_exporter": "python",
   "pygments_lexer": "ipython3",
   "version": "3.8.5"
  },
  "toc": {
   "base_numbering": 1,
   "nav_menu": {},
   "number_sections": true,
   "sideBar": true,
   "skip_h1_title": false,
   "title_cell": "Table of Contents",
   "title_sidebar": "Contents",
   "toc_cell": false,
   "toc_position": {},
   "toc_section_display": true,
   "toc_window_display": false
  },
  "varInspector": {
   "cols": {
    "lenName": 16,
    "lenType": 16,
    "lenVar": 40
   },
   "kernels_config": {
    "python": {
     "delete_cmd_postfix": "",
     "delete_cmd_prefix": "del ",
     "library": "var_list.py",
     "varRefreshCmd": "print(var_dic_list())"
    },
    "r": {
     "delete_cmd_postfix": ") ",
     "delete_cmd_prefix": "rm(",
     "library": "var_list.r",
     "varRefreshCmd": "cat(var_dic_list()) "
    }
   },
   "types_to_exclude": [
    "module",
    "function",
    "builtin_function_or_method",
    "instance",
    "_Feature"
   ],
   "window_display": false
  }
 },
 "nbformat": 4,
 "nbformat_minor": 4
}
