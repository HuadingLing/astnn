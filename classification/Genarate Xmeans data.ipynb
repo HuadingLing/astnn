{
 "cells": [
  {
   "cell_type": "code",
   "execution_count": 1,
   "metadata": {
    "ExecuteTime": {
     "end_time": "2020-10-07T01:02:43.288883Z",
     "start_time": "2020-10-07T01:02:32.362977Z"
    }
   },
   "outputs": [
    {
     "name": "stderr",
     "output_type": "stream",
     "text": [
      "C:\\Users\\A1\\anaconda3\\envs\\pytorch\\lib\\site-packages\\torch\\cuda\\__init__.py:102: UserWarning: \n",
      "    Found GPU0 GeForce GT 730 which is of cuda capability 3.0.\n",
      "    PyTorch no longer supports this GPU because it is too old.\n",
      "    The minimum cuda capability that we support is 3.5.\n",
      "    \n",
      "  warnings.warn(old_gpu_warn % (d, name, major, capability[1]))\n",
      "C:\\Users\\A1\\anaconda3\\envs\\pytorch\\lib\\site-packages\\torch\\cuda\\__init__.py:125: UserWarning: \n",
      "GeForce GT 730 with CUDA capability sm_30 is not compatible with the current PyTorch installation.\n",
      "The current PyTorch install supports CUDA capabilities sm_37 sm_50 sm_60 sm_61 sm_70 sm_75 compute_37.\n",
      "If you want to use the GeForce GT 730 GPU with PyTorch, please check the instructions at https://pytorch.org/get-started/locally/\n",
      "\n",
      "  warnings.warn(incompatible_device_warn.format(device_name, capability, \" \".join(arch_list), device_name))\n"
     ]
    }
   ],
   "source": [
    "import numpy as np\n",
    "import pandas as pd\n",
    "from model import BatchProgramCC\n",
    "from gensim.models.word2vec import Word2Vec\n",
    "import torch\n",
    "\n",
    "def get_device():\n",
    "    if torch.cuda.is_available():\n",
    "        if torch.cuda.get_device_name(0) == 'GeForce GT 730':\n",
    "            device = 'cpu'\n",
    "        else:\n",
    "            device = 'cuda'\n",
    "    else:\n",
    "        device = 'cpu'\n",
    "    return torch.device(device)\n",
    "\n",
    "device = get_device()\n",
    "\n",
    "\n",
    "root = 'data/'\n",
    "\n",
    "train_data = pd.read_pickle(root+'train/blocks.pkl').sample(frac=1.0)\n",
    "validation_data = pd.read_pickle(root + 'dev/blocks.pkl').sample(frac=1.0)\n",
    "test_data = pd.read_pickle(root+'test/blocks.pkl').sample(frac=1.0)\n",
    "ast_embedded = pd.concat([train_data, validation_data, test_data], ignore_index=True)\n",
    "del train_data\n",
    "del validation_data\n",
    "del test_data\n",
    "\n",
    "#ast_embedded = pd.read_pickle(root+lang+'/ast_embedded.pkl')\n",
    "\n",
    "word2vec = Word2Vec.load(root+\"train/embedding/node_w2v_128\").wv\n",
    "MAX_TOKENS = word2vec.vectors.shape[0]\n",
    "EMBEDDING_DIM = word2vec.vectors.shape[1]\n",
    "#embeddings = np.zeros((MAX_TOKENS + 1, EMBEDDING_DIM), dtype=\"float32\")\n",
    "#embeddings[:MAX_TOKENS] = word2vec.vectors"
   ]
  },
  {
   "cell_type": "code",
   "execution_count": 2,
   "metadata": {
    "ExecuteTime": {
     "end_time": "2020-10-07T01:02:43.296770Z",
     "start_time": "2020-10-07T01:02:43.290756Z"
    }
   },
   "outputs": [],
   "source": [
    "import math\n",
    "\n",
    "class dataloader():\n",
    "    def __init__(self, dataset, batch_size):\n",
    "        self.dataset = dataset\n",
    "        self.batch_size = batch_size\n",
    "        self.idx = 0\n",
    "        self.max_idx = len(dataset)\n",
    "        self.len = math.ceil(len(self.dataset) / self.batch_size)\n",
    "        \n",
    "    def __call__(self):\n",
    "        pass\n",
    "    \n",
    "    def __len__(self):\n",
    "        return self.len\n",
    "    \n",
    "    def __iter__(self):\n",
    "        self.idx = 0\n",
    "        return self\n",
    "    \n",
    "    def __next__(self):\n",
    "        if self.idx >= self.max_idx:\n",
    "            raise StopIteration\n",
    "        tmp = self.dataset.iloc[self.idx: self.idx+self.batch_size]\n",
    "        x = []\n",
    "        for _, item in tmp.iterrows():\n",
    "            x.append(item['code'])\n",
    "        self.idx += self.batch_size\n",
    "        return x\n",
    "    \n"
   ]
  },
  {
   "cell_type": "code",
   "execution_count": 3,
   "metadata": {
    "ExecuteTime": {
     "end_time": "2020-10-07T01:02:43.320706Z",
     "start_time": "2020-10-07T01:02:43.298735Z"
    }
   },
   "outputs": [],
   "source": [
    "HIDDEN_DIM = 100\n",
    "ENCODE_DIM = 128\n",
    "LABELS = 104\n",
    "BATCH_SIZE = 128\n",
    "\n",
    "model_file = '20201006_151536 model for classification task/20201007_013732 model for classification task epoch_35 val.pt'\n",
    "save_dir = '---- classification model/'\n",
    "\n",
    "\n",
    "model = BatchProgramCC(EMBEDDING_DIM,\n",
    "                       HIDDEN_DIM,\n",
    "                       MAX_TOKENS+1,\n",
    "                       ENCODE_DIM,\n",
    "                       LABELS,\n",
    "                       BATCH_SIZE,\n",
    "                       device).to(device)\n",
    "\n",
    "data = dataloader(ast_embedded, BATCH_SIZE)"
   ]
  },
  {
   "cell_type": "code",
   "execution_count": 4,
   "metadata": {
    "ExecuteTime": {
     "end_time": "2020-10-07T01:02:43.545076Z",
     "start_time": "2020-10-07T01:02:43.321673Z"
    },
    "scrolled": true
   },
   "outputs": [
    {
     "data": {
      "text/plain": [
       "BatchProgramCC(\n",
       "  (encoder): BatchTreeEncoder(\n",
       "    (embedding): Embedding(8189, 128)\n",
       "    (W_c): Linear(in_features=128, out_features=128, bias=True)\n",
       "  )\n",
       "  (bigru): GRU(128, 100, batch_first=True, bidirectional=True)\n",
       "  (hidden2label): Linear(in_features=200, out_features=104, bias=True)\n",
       ")"
      ]
     },
     "execution_count": 4,
     "metadata": {},
     "output_type": "execute_result"
    }
   ],
   "source": [
    "param = torch.load(save_dir + model_file)['param']\n",
    "model.load_state_dict(param)\n",
    "model.eval()"
   ]
  },
  {
   "cell_type": "code",
   "execution_count": 6,
   "metadata": {
    "ExecuteTime": {
     "end_time": "2020-10-07T01:12:22.332901Z",
     "start_time": "2020-10-07T01:03:09.930521Z"
    }
   },
   "outputs": [],
   "source": [
    "with open(root+'Xmeans dataset/cluster data.txt', 'w') as f:\n",
    "    with torch.no_grad():\n",
    "        for x in data:\n",
    "            model.batch_size = len(x)\n",
    "            model.hidden = model.init_hidden()\n",
    "            encode = model.encode(x).cpu().numpy()\n",
    "            buffer = []\n",
    "            for s in encode:\n",
    "                i = [str(i) for i in s]\n",
    "                i = ', '.join(i)\n",
    "                buffer.append(i)\n",
    "            buffer = '\\n'.join(buffer)\n",
    "            f.write(buffer+'\\n')\n",
    "            #break"
   ]
  }
 ],
 "metadata": {
  "kernelspec": {
   "display_name": "Python 3",
   "language": "python",
   "name": "python3"
  },
  "language_info": {
   "codemirror_mode": {
    "name": "ipython",
    "version": 3
   },
   "file_extension": ".py",
   "mimetype": "text/x-python",
   "name": "python",
   "nbconvert_exporter": "python",
   "pygments_lexer": "ipython3",
   "version": "3.8.5"
  },
  "toc": {
   "base_numbering": 1,
   "nav_menu": {},
   "number_sections": true,
   "sideBar": true,
   "skip_h1_title": false,
   "title_cell": "Table of Contents",
   "title_sidebar": "Contents",
   "toc_cell": false,
   "toc_position": {},
   "toc_section_display": true,
   "toc_window_display": false
  },
  "varInspector": {
   "cols": {
    "lenName": 16,
    "lenType": 16,
    "lenVar": 40
   },
   "kernels_config": {
    "python": {
     "delete_cmd_postfix": "",
     "delete_cmd_prefix": "del ",
     "library": "var_list.py",
     "varRefreshCmd": "print(var_dic_list())"
    },
    "r": {
     "delete_cmd_postfix": ") ",
     "delete_cmd_prefix": "rm(",
     "library": "var_list.r",
     "varRefreshCmd": "cat(var_dic_list()) "
    }
   },
   "types_to_exclude": [
    "module",
    "function",
    "builtin_function_or_method",
    "instance",
    "_Feature"
   ],
   "window_display": false
  }
 },
 "nbformat": 4,
 "nbformat_minor": 4
}
